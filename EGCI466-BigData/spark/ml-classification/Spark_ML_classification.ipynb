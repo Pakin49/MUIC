{
  "cells": [
    {
      "cell_type": "markdown",
      "source": [
        "# Import Libraries"
      ],
      "metadata": {
        "id": "cuDOxDHdOtFW"
      }
    },
    {
      "cell_type": "code",
      "source": [
        "# Installing required packages\n",
        "!pip install pyspark\n",
        "!pip install findspark"
      ],
      "metadata": {
        "colab": {
          "base_uri": "https://localhost:8080/"
        },
        "id": "FAtJ8Jh_z-7t",
        "outputId": "93215dcd-fc17-40da-cac3-69f7083f63d2"
      },
      "execution_count": 1,
      "outputs": [
        {
          "output_type": "stream",
          "name": "stdout",
          "text": [
            "Collecting pyspark\n",
            "  Downloading pyspark-3.5.1.tar.gz (317.0 MB)\n",
            "\u001b[2K     \u001b[90m━━━━━━━━━━━━━━━━━━━━━━━━━━━━━━━━━━━━━━━━\u001b[0m \u001b[32m317.0/317.0 MB\u001b[0m \u001b[31m2.9 MB/s\u001b[0m eta \u001b[36m0:00:00\u001b[0m\n",
            "\u001b[?25h  Preparing metadata (setup.py) ... \u001b[?25l\u001b[?25hdone\n",
            "Requirement already satisfied: py4j==0.10.9.7 in /usr/local/lib/python3.10/dist-packages (from pyspark) (0.10.9.7)\n",
            "Building wheels for collected packages: pyspark\n",
            "  Building wheel for pyspark (setup.py) ... \u001b[?25l\u001b[?25hdone\n",
            "  Created wheel for pyspark: filename=pyspark-3.5.1-py2.py3-none-any.whl size=317488491 sha256=3dd97f706bc0d7543e6565b223c933402f4fb11ce486cc3410d16022ac55682a\n",
            "  Stored in directory: /root/.cache/pip/wheels/80/1d/60/2c256ed38dddce2fdd93be545214a63e02fbd8d74fb0b7f3a6\n",
            "Successfully built pyspark\n",
            "Installing collected packages: pyspark\n",
            "Successfully installed pyspark-3.5.1\n",
            "Collecting findspark\n",
            "  Downloading findspark-2.0.1-py2.py3-none-any.whl (4.4 kB)\n",
            "Installing collected packages: findspark\n",
            "Successfully installed findspark-2.0.1\n"
          ]
        }
      ]
    },
    {
      "cell_type": "code",
      "source": [
        "from pyspark import SparkContext, SparkConf\n",
        "from pyspark.sql import SparkSession,SQLContext"
      ],
      "metadata": {
        "id": "e34Q4qnfz-y8"
      },
      "execution_count": 3,
      "outputs": []
    },
    {
      "cell_type": "markdown",
      "source": [
        "# Create Spark Context"
      ],
      "metadata": {
        "id": "xDOcBO-rkuPB"
      }
    },
    {
      "cell_type": "code",
      "execution_count": 8,
      "metadata": {
        "collapsed": true,
        "id": "sqOwMWgOwBGi"
      },
      "outputs": [],
      "source": [
        "spark = SparkSession \\\n",
        "    .builder \\\n",
        "    .appName(\"ML_Classifications\") \\\n",
        "    .getOrCreate()\n",
        "\n"
      ]
    },
    {
      "cell_type": "code",
      "source": [
        "sc = spark.sparkContext\n",
        "sqlContext = SQLContext(sc)"
      ],
      "metadata": {
        "id": "PygI-deIZT-o"
      },
      "execution_count": 9,
      "outputs": []
    },
    {
      "cell_type": "code",
      "source": [
        "# Upload files (Only in colabs)"
      ],
      "metadata": {
        "id": "tQRG5yVvOyty"
      },
      "execution_count": null,
      "outputs": []
    },
    {
      "cell_type": "code",
      "source": [
        "from google.colab import files\n",
        "\n",
        "\n",
        "uploaded = files.upload()\n"
      ],
      "metadata": {
        "colab": {
          "base_uri": "https://localhost:8080/",
          "height": 73
        },
        "id": "FWglhYsLwPL0",
        "outputId": "5bcd259d-fe50-4948-e67d-0bcb4ecbb890"
      },
      "execution_count": 10,
      "outputs": [
        {
          "output_type": "display_data",
          "data": {
            "text/plain": [
              "<IPython.core.display.HTML object>"
            ],
            "text/html": [
              "\n",
              "     <input type=\"file\" id=\"files-c8330f95-6cf8-47cf-bdf4-624e36037602\" name=\"files[]\" multiple disabled\n",
              "        style=\"border:none\" />\n",
              "     <output id=\"result-c8330f95-6cf8-47cf-bdf4-624e36037602\">\n",
              "      Upload widget is only available when the cell has been executed in the\n",
              "      current browser session. Please rerun this cell to enable.\n",
              "      </output>\n",
              "      <script>// Copyright 2017 Google LLC\n",
              "//\n",
              "// Licensed under the Apache License, Version 2.0 (the \"License\");\n",
              "// you may not use this file except in compliance with the License.\n",
              "// You may obtain a copy of the License at\n",
              "//\n",
              "//      http://www.apache.org/licenses/LICENSE-2.0\n",
              "//\n",
              "// Unless required by applicable law or agreed to in writing, software\n",
              "// distributed under the License is distributed on an \"AS IS\" BASIS,\n",
              "// WITHOUT WARRANTIES OR CONDITIONS OF ANY KIND, either express or implied.\n",
              "// See the License for the specific language governing permissions and\n",
              "// limitations under the License.\n",
              "\n",
              "/**\n",
              " * @fileoverview Helpers for google.colab Python module.\n",
              " */\n",
              "(function(scope) {\n",
              "function span(text, styleAttributes = {}) {\n",
              "  const element = document.createElement('span');\n",
              "  element.textContent = text;\n",
              "  for (const key of Object.keys(styleAttributes)) {\n",
              "    element.style[key] = styleAttributes[key];\n",
              "  }\n",
              "  return element;\n",
              "}\n",
              "\n",
              "// Max number of bytes which will be uploaded at a time.\n",
              "const MAX_PAYLOAD_SIZE = 100 * 1024;\n",
              "\n",
              "function _uploadFiles(inputId, outputId) {\n",
              "  const steps = uploadFilesStep(inputId, outputId);\n",
              "  const outputElement = document.getElementById(outputId);\n",
              "  // Cache steps on the outputElement to make it available for the next call\n",
              "  // to uploadFilesContinue from Python.\n",
              "  outputElement.steps = steps;\n",
              "\n",
              "  return _uploadFilesContinue(outputId);\n",
              "}\n",
              "\n",
              "// This is roughly an async generator (not supported in the browser yet),\n",
              "// where there are multiple asynchronous steps and the Python side is going\n",
              "// to poll for completion of each step.\n",
              "// This uses a Promise to block the python side on completion of each step,\n",
              "// then passes the result of the previous step as the input to the next step.\n",
              "function _uploadFilesContinue(outputId) {\n",
              "  const outputElement = document.getElementById(outputId);\n",
              "  const steps = outputElement.steps;\n",
              "\n",
              "  const next = steps.next(outputElement.lastPromiseValue);\n",
              "  return Promise.resolve(next.value.promise).then((value) => {\n",
              "    // Cache the last promise value to make it available to the next\n",
              "    // step of the generator.\n",
              "    outputElement.lastPromiseValue = value;\n",
              "    return next.value.response;\n",
              "  });\n",
              "}\n",
              "\n",
              "/**\n",
              " * Generator function which is called between each async step of the upload\n",
              " * process.\n",
              " * @param {string} inputId Element ID of the input file picker element.\n",
              " * @param {string} outputId Element ID of the output display.\n",
              " * @return {!Iterable<!Object>} Iterable of next steps.\n",
              " */\n",
              "function* uploadFilesStep(inputId, outputId) {\n",
              "  const inputElement = document.getElementById(inputId);\n",
              "  inputElement.disabled = false;\n",
              "\n",
              "  const outputElement = document.getElementById(outputId);\n",
              "  outputElement.innerHTML = '';\n",
              "\n",
              "  const pickedPromise = new Promise((resolve) => {\n",
              "    inputElement.addEventListener('change', (e) => {\n",
              "      resolve(e.target.files);\n",
              "    });\n",
              "  });\n",
              "\n",
              "  const cancel = document.createElement('button');\n",
              "  inputElement.parentElement.appendChild(cancel);\n",
              "  cancel.textContent = 'Cancel upload';\n",
              "  const cancelPromise = new Promise((resolve) => {\n",
              "    cancel.onclick = () => {\n",
              "      resolve(null);\n",
              "    };\n",
              "  });\n",
              "\n",
              "  // Wait for the user to pick the files.\n",
              "  const files = yield {\n",
              "    promise: Promise.race([pickedPromise, cancelPromise]),\n",
              "    response: {\n",
              "      action: 'starting',\n",
              "    }\n",
              "  };\n",
              "\n",
              "  cancel.remove();\n",
              "\n",
              "  // Disable the input element since further picks are not allowed.\n",
              "  inputElement.disabled = true;\n",
              "\n",
              "  if (!files) {\n",
              "    return {\n",
              "      response: {\n",
              "        action: 'complete',\n",
              "      }\n",
              "    };\n",
              "  }\n",
              "\n",
              "  for (const file of files) {\n",
              "    const li = document.createElement('li');\n",
              "    li.append(span(file.name, {fontWeight: 'bold'}));\n",
              "    li.append(span(\n",
              "        `(${file.type || 'n/a'}) - ${file.size} bytes, ` +\n",
              "        `last modified: ${\n",
              "            file.lastModifiedDate ? file.lastModifiedDate.toLocaleDateString() :\n",
              "                                    'n/a'} - `));\n",
              "    const percent = span('0% done');\n",
              "    li.appendChild(percent);\n",
              "\n",
              "    outputElement.appendChild(li);\n",
              "\n",
              "    const fileDataPromise = new Promise((resolve) => {\n",
              "      const reader = new FileReader();\n",
              "      reader.onload = (e) => {\n",
              "        resolve(e.target.result);\n",
              "      };\n",
              "      reader.readAsArrayBuffer(file);\n",
              "    });\n",
              "    // Wait for the data to be ready.\n",
              "    let fileData = yield {\n",
              "      promise: fileDataPromise,\n",
              "      response: {\n",
              "        action: 'continue',\n",
              "      }\n",
              "    };\n",
              "\n",
              "    // Use a chunked sending to avoid message size limits. See b/62115660.\n",
              "    let position = 0;\n",
              "    do {\n",
              "      const length = Math.min(fileData.byteLength - position, MAX_PAYLOAD_SIZE);\n",
              "      const chunk = new Uint8Array(fileData, position, length);\n",
              "      position += length;\n",
              "\n",
              "      const base64 = btoa(String.fromCharCode.apply(null, chunk));\n",
              "      yield {\n",
              "        response: {\n",
              "          action: 'append',\n",
              "          file: file.name,\n",
              "          data: base64,\n",
              "        },\n",
              "      };\n",
              "\n",
              "      let percentDone = fileData.byteLength === 0 ?\n",
              "          100 :\n",
              "          Math.round((position / fileData.byteLength) * 100);\n",
              "      percent.textContent = `${percentDone}% done`;\n",
              "\n",
              "    } while (position < fileData.byteLength);\n",
              "  }\n",
              "\n",
              "  // All done.\n",
              "  yield {\n",
              "    response: {\n",
              "      action: 'complete',\n",
              "    }\n",
              "  };\n",
              "}\n",
              "\n",
              "scope.google = scope.google || {};\n",
              "scope.google.colab = scope.google.colab || {};\n",
              "scope.google.colab._files = {\n",
              "  _uploadFiles,\n",
              "  _uploadFilesContinue,\n",
              "};\n",
              "})(self);\n",
              "</script> "
            ]
          },
          "metadata": {}
        },
        {
          "output_type": "stream",
          "name": "stdout",
          "text": [
            "Saving drybeans.csv to drybeans.csv\n"
          ]
        }
      ]
    },
    {
      "cell_type": "markdown",
      "source": [],
      "metadata": {
        "id": "Ac8MHqWOkyvb"
      }
    },
    {
      "cell_type": "code",
      "execution_count": 13,
      "metadata": {
        "collapsed": true,
        "id": "ZWAofGUswBGl"
      },
      "outputs": [],
      "source": [
        "file='drybeans.csv'\n",
        "df = spark.read.csv(file,header='true',inferSchema=True)"
      ]
    },
    {
      "cell_type": "code",
      "execution_count": 14,
      "metadata": {
        "colab": {
          "base_uri": "https://localhost:8080/"
        },
        "id": "YeX5KsGXwBGm",
        "outputId": "14a503b6-06a8-4ebc-f71c-72ef2df6e461"
      },
      "outputs": [
        {
          "output_type": "execute_result",
          "data": {
            "text/plain": [
              "['Area',\n",
              " 'Perimeter',\n",
              " 'MajorAxisLength',\n",
              " 'MinorAxisLength',\n",
              " 'AspectRation',\n",
              " 'Eccentricity',\n",
              " 'ConvexArea',\n",
              " 'EquivDiameter',\n",
              " 'Extent',\n",
              " 'Solidity',\n",
              " 'roundness',\n",
              " 'Compactness',\n",
              " 'ShapeFactor1',\n",
              " 'ShapeFactor2',\n",
              " 'ShapeFactor3',\n",
              " 'ShapeFactor4',\n",
              " 'Class']"
            ]
          },
          "metadata": {},
          "execution_count": 14
        }
      ],
      "source": [
        "df.columns"
      ]
    },
    {
      "cell_type": "code",
      "execution_count": 72,
      "metadata": {
        "colab": {
          "base_uri": "https://localhost:8080/"
        },
        "id": "-vjXANWwwBGm",
        "outputId": "e937f5f9-57fd-4bad-e37d-6739dd7b2761"
      },
      "outputs": [
        {
          "output_type": "stream",
          "name": "stdout",
          "text": [
            "root\n",
            " |-- Area: integer (nullable = true)\n",
            " |-- Perimeter: double (nullable = true)\n",
            " |-- MajorAxisLength: double (nullable = true)\n",
            " |-- MinorAxisLength: double (nullable = true)\n",
            " |-- AspectRation: double (nullable = true)\n",
            " |-- Eccentricity: double (nullable = true)\n",
            " |-- ConvexArea: integer (nullable = true)\n",
            " |-- EquivDiameter: double (nullable = true)\n",
            " |-- Extent: double (nullable = true)\n",
            " |-- Solidity: double (nullable = true)\n",
            " |-- roundness: double (nullable = true)\n",
            " |-- Compactness: double (nullable = true)\n",
            " |-- ShapeFactor1: double (nullable = true)\n",
            " |-- ShapeFactor2: double (nullable = true)\n",
            " |-- ShapeFactor3: double (nullable = true)\n",
            " |-- ShapeFactor4: double (nullable = true)\n",
            " |-- Class: string (nullable = true)\n",
            " |-- label: double (nullable = false)\n",
            "\n"
          ]
        }
      ],
      "source": [
        "df.printSchema()"
      ]
    },
    {
      "cell_type": "code",
      "execution_count": 15,
      "metadata": {
        "colab": {
          "base_uri": "https://localhost:8080/",
          "height": 614
        },
        "id": "3WM1mgbBwBGn",
        "outputId": "99d1a95c-b136-44eb-b5ca-f400a19ffa57"
      },
      "outputs": [
        {
          "output_type": "execute_result",
          "data": {
            "text/plain": [
              "                     0                     1                      2  \\\n",
              "summary          count                  mean                 stddev   \n",
              "Area             13611    53048.284549261625      29324.09571688207   \n",
              "Perimeter        13611     855.2834585996654     214.28969589196151   \n",
              "MajorAxisLength  13611     320.1418673032194       85.6941859593335   \n",
              "MinorAxisLength  13611     202.2707140828817      44.97009129411471   \n",
              "AspectRation     13611    1.5832419790188144    0.24667845568580432   \n",
              "Eccentricity     13611     0.750894929372346    0.09200176320620888   \n",
              "ConvexArea       13611     53768.20020571596     29774.915817000012   \n",
              "EquivDiameter    13611    253.06421992490445      59.17712014871156   \n",
              "Extent           13611    0.7497327873564055   0.049086366843964224   \n",
              "Solidity         13611    0.9871428435655719      0.004660379169838   \n",
              "roundness        13611     0.873281831305413    0.05951988794941863   \n",
              "Compactness      13611    0.7998636818695875    0.06171346311682412   \n",
              "ShapeFactor1     13611  0.006563608507383666  0.0011279982248070671   \n",
              "ShapeFactor2     13611  0.001715947338917041   5.958748528937661E-4   \n",
              "ShapeFactor3     13611    0.6435901812970417      0.098996150476599   \n",
              "ShapeFactor4     13611    0.9950633118301326   0.004366457746633824   \n",
              "Class            13611                  None                   None   \n",
              "\n",
              "                           3            4  \n",
              "summary                  min          max  \n",
              "Area                   20420       254616  \n",
              "Perimeter            524.736      1985.37  \n",
              "MajorAxisLength   183.601165  738.8601535  \n",
              "MinorAxisLength  122.5126535  460.1984968  \n",
              "AspectRation     1.024867596  2.430306447  \n",
              "Eccentricity     0.218951263  0.911422968  \n",
              "ConvexArea             20684       263261  \n",
              "EquivDiameter    161.2437642  569.3743583  \n",
              "Extent           0.555314717  0.866194641  \n",
              "Solidity         0.919246157    0.9946775  \n",
              "roundness        0.489618256    0.9906854  \n",
              "Compactness      0.640576759  0.987302969  \n",
              "ShapeFactor1     0.002778013  0.010451169  \n",
              "ShapeFactor2      5.64169E-4  0.003664972  \n",
              "ShapeFactor3     0.410338584  0.974767153  \n",
              "ShapeFactor4     0.947687403   0.99973253  \n",
              "Class               BARBUNYA         SIRA  "
            ],
            "text/html": [
              "\n",
              "  <div id=\"df-c9319d83-bfd8-4387-b8b1-a45ac4074190\" class=\"colab-df-container\">\n",
              "    <div>\n",
              "<style scoped>\n",
              "    .dataframe tbody tr th:only-of-type {\n",
              "        vertical-align: middle;\n",
              "    }\n",
              "\n",
              "    .dataframe tbody tr th {\n",
              "        vertical-align: top;\n",
              "    }\n",
              "\n",
              "    .dataframe thead th {\n",
              "        text-align: right;\n",
              "    }\n",
              "</style>\n",
              "<table border=\"1\" class=\"dataframe\">\n",
              "  <thead>\n",
              "    <tr style=\"text-align: right;\">\n",
              "      <th></th>\n",
              "      <th>0</th>\n",
              "      <th>1</th>\n",
              "      <th>2</th>\n",
              "      <th>3</th>\n",
              "      <th>4</th>\n",
              "    </tr>\n",
              "  </thead>\n",
              "  <tbody>\n",
              "    <tr>\n",
              "      <th>summary</th>\n",
              "      <td>count</td>\n",
              "      <td>mean</td>\n",
              "      <td>stddev</td>\n",
              "      <td>min</td>\n",
              "      <td>max</td>\n",
              "    </tr>\n",
              "    <tr>\n",
              "      <th>Area</th>\n",
              "      <td>13611</td>\n",
              "      <td>53048.284549261625</td>\n",
              "      <td>29324.09571688207</td>\n",
              "      <td>20420</td>\n",
              "      <td>254616</td>\n",
              "    </tr>\n",
              "    <tr>\n",
              "      <th>Perimeter</th>\n",
              "      <td>13611</td>\n",
              "      <td>855.2834585996654</td>\n",
              "      <td>214.28969589196151</td>\n",
              "      <td>524.736</td>\n",
              "      <td>1985.37</td>\n",
              "    </tr>\n",
              "    <tr>\n",
              "      <th>MajorAxisLength</th>\n",
              "      <td>13611</td>\n",
              "      <td>320.1418673032194</td>\n",
              "      <td>85.6941859593335</td>\n",
              "      <td>183.601165</td>\n",
              "      <td>738.8601535</td>\n",
              "    </tr>\n",
              "    <tr>\n",
              "      <th>MinorAxisLength</th>\n",
              "      <td>13611</td>\n",
              "      <td>202.2707140828817</td>\n",
              "      <td>44.97009129411471</td>\n",
              "      <td>122.5126535</td>\n",
              "      <td>460.1984968</td>\n",
              "    </tr>\n",
              "    <tr>\n",
              "      <th>AspectRation</th>\n",
              "      <td>13611</td>\n",
              "      <td>1.5832419790188144</td>\n",
              "      <td>0.24667845568580432</td>\n",
              "      <td>1.024867596</td>\n",
              "      <td>2.430306447</td>\n",
              "    </tr>\n",
              "    <tr>\n",
              "      <th>Eccentricity</th>\n",
              "      <td>13611</td>\n",
              "      <td>0.750894929372346</td>\n",
              "      <td>0.09200176320620888</td>\n",
              "      <td>0.218951263</td>\n",
              "      <td>0.911422968</td>\n",
              "    </tr>\n",
              "    <tr>\n",
              "      <th>ConvexArea</th>\n",
              "      <td>13611</td>\n",
              "      <td>53768.20020571596</td>\n",
              "      <td>29774.915817000012</td>\n",
              "      <td>20684</td>\n",
              "      <td>263261</td>\n",
              "    </tr>\n",
              "    <tr>\n",
              "      <th>EquivDiameter</th>\n",
              "      <td>13611</td>\n",
              "      <td>253.06421992490445</td>\n",
              "      <td>59.17712014871156</td>\n",
              "      <td>161.2437642</td>\n",
              "      <td>569.3743583</td>\n",
              "    </tr>\n",
              "    <tr>\n",
              "      <th>Extent</th>\n",
              "      <td>13611</td>\n",
              "      <td>0.7497327873564055</td>\n",
              "      <td>0.049086366843964224</td>\n",
              "      <td>0.555314717</td>\n",
              "      <td>0.866194641</td>\n",
              "    </tr>\n",
              "    <tr>\n",
              "      <th>Solidity</th>\n",
              "      <td>13611</td>\n",
              "      <td>0.9871428435655719</td>\n",
              "      <td>0.004660379169838</td>\n",
              "      <td>0.919246157</td>\n",
              "      <td>0.9946775</td>\n",
              "    </tr>\n",
              "    <tr>\n",
              "      <th>roundness</th>\n",
              "      <td>13611</td>\n",
              "      <td>0.873281831305413</td>\n",
              "      <td>0.05951988794941863</td>\n",
              "      <td>0.489618256</td>\n",
              "      <td>0.9906854</td>\n",
              "    </tr>\n",
              "    <tr>\n",
              "      <th>Compactness</th>\n",
              "      <td>13611</td>\n",
              "      <td>0.7998636818695875</td>\n",
              "      <td>0.06171346311682412</td>\n",
              "      <td>0.640576759</td>\n",
              "      <td>0.987302969</td>\n",
              "    </tr>\n",
              "    <tr>\n",
              "      <th>ShapeFactor1</th>\n",
              "      <td>13611</td>\n",
              "      <td>0.006563608507383666</td>\n",
              "      <td>0.0011279982248070671</td>\n",
              "      <td>0.002778013</td>\n",
              "      <td>0.010451169</td>\n",
              "    </tr>\n",
              "    <tr>\n",
              "      <th>ShapeFactor2</th>\n",
              "      <td>13611</td>\n",
              "      <td>0.001715947338917041</td>\n",
              "      <td>5.958748528937661E-4</td>\n",
              "      <td>5.64169E-4</td>\n",
              "      <td>0.003664972</td>\n",
              "    </tr>\n",
              "    <tr>\n",
              "      <th>ShapeFactor3</th>\n",
              "      <td>13611</td>\n",
              "      <td>0.6435901812970417</td>\n",
              "      <td>0.098996150476599</td>\n",
              "      <td>0.410338584</td>\n",
              "      <td>0.974767153</td>\n",
              "    </tr>\n",
              "    <tr>\n",
              "      <th>ShapeFactor4</th>\n",
              "      <td>13611</td>\n",
              "      <td>0.9950633118301326</td>\n",
              "      <td>0.004366457746633824</td>\n",
              "      <td>0.947687403</td>\n",
              "      <td>0.99973253</td>\n",
              "    </tr>\n",
              "    <tr>\n",
              "      <th>Class</th>\n",
              "      <td>13611</td>\n",
              "      <td>None</td>\n",
              "      <td>None</td>\n",
              "      <td>BARBUNYA</td>\n",
              "      <td>SIRA</td>\n",
              "    </tr>\n",
              "  </tbody>\n",
              "</table>\n",
              "</div>\n",
              "    <div class=\"colab-df-buttons\">\n",
              "\n",
              "  <div class=\"colab-df-container\">\n",
              "    <button class=\"colab-df-convert\" onclick=\"convertToInteractive('df-c9319d83-bfd8-4387-b8b1-a45ac4074190')\"\n",
              "            title=\"Convert this dataframe to an interactive table.\"\n",
              "            style=\"display:none;\">\n",
              "\n",
              "  <svg xmlns=\"http://www.w3.org/2000/svg\" height=\"24px\" viewBox=\"0 -960 960 960\">\n",
              "    <path d=\"M120-120v-720h720v720H120Zm60-500h600v-160H180v160Zm220 220h160v-160H400v160Zm0 220h160v-160H400v160ZM180-400h160v-160H180v160Zm440 0h160v-160H620v160ZM180-180h160v-160H180v160Zm440 0h160v-160H620v160Z\"/>\n",
              "  </svg>\n",
              "    </button>\n",
              "\n",
              "  <style>\n",
              "    .colab-df-container {\n",
              "      display:flex;\n",
              "      gap: 12px;\n",
              "    }\n",
              "\n",
              "    .colab-df-convert {\n",
              "      background-color: #E8F0FE;\n",
              "      border: none;\n",
              "      border-radius: 50%;\n",
              "      cursor: pointer;\n",
              "      display: none;\n",
              "      fill: #1967D2;\n",
              "      height: 32px;\n",
              "      padding: 0 0 0 0;\n",
              "      width: 32px;\n",
              "    }\n",
              "\n",
              "    .colab-df-convert:hover {\n",
              "      background-color: #E2EBFA;\n",
              "      box-shadow: 0px 1px 2px rgba(60, 64, 67, 0.3), 0px 1px 3px 1px rgba(60, 64, 67, 0.15);\n",
              "      fill: #174EA6;\n",
              "    }\n",
              "\n",
              "    .colab-df-buttons div {\n",
              "      margin-bottom: 4px;\n",
              "    }\n",
              "\n",
              "    [theme=dark] .colab-df-convert {\n",
              "      background-color: #3B4455;\n",
              "      fill: #D2E3FC;\n",
              "    }\n",
              "\n",
              "    [theme=dark] .colab-df-convert:hover {\n",
              "      background-color: #434B5C;\n",
              "      box-shadow: 0px 1px 3px 1px rgba(0, 0, 0, 0.15);\n",
              "      filter: drop-shadow(0px 1px 2px rgba(0, 0, 0, 0.3));\n",
              "      fill: #FFFFFF;\n",
              "    }\n",
              "  </style>\n",
              "\n",
              "    <script>\n",
              "      const buttonEl =\n",
              "        document.querySelector('#df-c9319d83-bfd8-4387-b8b1-a45ac4074190 button.colab-df-convert');\n",
              "      buttonEl.style.display =\n",
              "        google.colab.kernel.accessAllowed ? 'block' : 'none';\n",
              "\n",
              "      async function convertToInteractive(key) {\n",
              "        const element = document.querySelector('#df-c9319d83-bfd8-4387-b8b1-a45ac4074190');\n",
              "        const dataTable =\n",
              "          await google.colab.kernel.invokeFunction('convertToInteractive',\n",
              "                                                    [key], {});\n",
              "        if (!dataTable) return;\n",
              "\n",
              "        const docLinkHtml = 'Like what you see? Visit the ' +\n",
              "          '<a target=\"_blank\" href=https://colab.research.google.com/notebooks/data_table.ipynb>data table notebook</a>'\n",
              "          + ' to learn more about interactive tables.';\n",
              "        element.innerHTML = '';\n",
              "        dataTable['output_type'] = 'display_data';\n",
              "        await google.colab.output.renderOutput(dataTable, element);\n",
              "        const docLink = document.createElement('div');\n",
              "        docLink.innerHTML = docLinkHtml;\n",
              "        element.appendChild(docLink);\n",
              "      }\n",
              "    </script>\n",
              "  </div>\n",
              "\n",
              "\n",
              "<div id=\"df-bfccb87a-3c01-4a6d-9854-f698338d78bb\">\n",
              "  <button class=\"colab-df-quickchart\" onclick=\"quickchart('df-bfccb87a-3c01-4a6d-9854-f698338d78bb')\"\n",
              "            title=\"Suggest charts\"\n",
              "            style=\"display:none;\">\n",
              "\n",
              "<svg xmlns=\"http://www.w3.org/2000/svg\" height=\"24px\"viewBox=\"0 0 24 24\"\n",
              "     width=\"24px\">\n",
              "    <g>\n",
              "        <path d=\"M19 3H5c-1.1 0-2 .9-2 2v14c0 1.1.9 2 2 2h14c1.1 0 2-.9 2-2V5c0-1.1-.9-2-2-2zM9 17H7v-7h2v7zm4 0h-2V7h2v10zm4 0h-2v-4h2v4z\"/>\n",
              "    </g>\n",
              "</svg>\n",
              "  </button>\n",
              "\n",
              "<style>\n",
              "  .colab-df-quickchart {\n",
              "      --bg-color: #E8F0FE;\n",
              "      --fill-color: #1967D2;\n",
              "      --hover-bg-color: #E2EBFA;\n",
              "      --hover-fill-color: #174EA6;\n",
              "      --disabled-fill-color: #AAA;\n",
              "      --disabled-bg-color: #DDD;\n",
              "  }\n",
              "\n",
              "  [theme=dark] .colab-df-quickchart {\n",
              "      --bg-color: #3B4455;\n",
              "      --fill-color: #D2E3FC;\n",
              "      --hover-bg-color: #434B5C;\n",
              "      --hover-fill-color: #FFFFFF;\n",
              "      --disabled-bg-color: #3B4455;\n",
              "      --disabled-fill-color: #666;\n",
              "  }\n",
              "\n",
              "  .colab-df-quickchart {\n",
              "    background-color: var(--bg-color);\n",
              "    border: none;\n",
              "    border-radius: 50%;\n",
              "    cursor: pointer;\n",
              "    display: none;\n",
              "    fill: var(--fill-color);\n",
              "    height: 32px;\n",
              "    padding: 0;\n",
              "    width: 32px;\n",
              "  }\n",
              "\n",
              "  .colab-df-quickchart:hover {\n",
              "    background-color: var(--hover-bg-color);\n",
              "    box-shadow: 0 1px 2px rgba(60, 64, 67, 0.3), 0 1px 3px 1px rgba(60, 64, 67, 0.15);\n",
              "    fill: var(--button-hover-fill-color);\n",
              "  }\n",
              "\n",
              "  .colab-df-quickchart-complete:disabled,\n",
              "  .colab-df-quickchart-complete:disabled:hover {\n",
              "    background-color: var(--disabled-bg-color);\n",
              "    fill: var(--disabled-fill-color);\n",
              "    box-shadow: none;\n",
              "  }\n",
              "\n",
              "  .colab-df-spinner {\n",
              "    border: 2px solid var(--fill-color);\n",
              "    border-color: transparent;\n",
              "    border-bottom-color: var(--fill-color);\n",
              "    animation:\n",
              "      spin 1s steps(1) infinite;\n",
              "  }\n",
              "\n",
              "  @keyframes spin {\n",
              "    0% {\n",
              "      border-color: transparent;\n",
              "      border-bottom-color: var(--fill-color);\n",
              "      border-left-color: var(--fill-color);\n",
              "    }\n",
              "    20% {\n",
              "      border-color: transparent;\n",
              "      border-left-color: var(--fill-color);\n",
              "      border-top-color: var(--fill-color);\n",
              "    }\n",
              "    30% {\n",
              "      border-color: transparent;\n",
              "      border-left-color: var(--fill-color);\n",
              "      border-top-color: var(--fill-color);\n",
              "      border-right-color: var(--fill-color);\n",
              "    }\n",
              "    40% {\n",
              "      border-color: transparent;\n",
              "      border-right-color: var(--fill-color);\n",
              "      border-top-color: var(--fill-color);\n",
              "    }\n",
              "    60% {\n",
              "      border-color: transparent;\n",
              "      border-right-color: var(--fill-color);\n",
              "    }\n",
              "    80% {\n",
              "      border-color: transparent;\n",
              "      border-right-color: var(--fill-color);\n",
              "      border-bottom-color: var(--fill-color);\n",
              "    }\n",
              "    90% {\n",
              "      border-color: transparent;\n",
              "      border-bottom-color: var(--fill-color);\n",
              "    }\n",
              "  }\n",
              "</style>\n",
              "\n",
              "  <script>\n",
              "    async function quickchart(key) {\n",
              "      const quickchartButtonEl =\n",
              "        document.querySelector('#' + key + ' button');\n",
              "      quickchartButtonEl.disabled = true;  // To prevent multiple clicks.\n",
              "      quickchartButtonEl.classList.add('colab-df-spinner');\n",
              "      try {\n",
              "        const charts = await google.colab.kernel.invokeFunction(\n",
              "            'suggestCharts', [key], {});\n",
              "      } catch (error) {\n",
              "        console.error('Error during call to suggestCharts:', error);\n",
              "      }\n",
              "      quickchartButtonEl.classList.remove('colab-df-spinner');\n",
              "      quickchartButtonEl.classList.add('colab-df-quickchart-complete');\n",
              "    }\n",
              "    (() => {\n",
              "      let quickchartButtonEl =\n",
              "        document.querySelector('#df-bfccb87a-3c01-4a6d-9854-f698338d78bb button');\n",
              "      quickchartButtonEl.style.display =\n",
              "        google.colab.kernel.accessAllowed ? 'block' : 'none';\n",
              "    })();\n",
              "  </script>\n",
              "</div>\n",
              "\n",
              "    </div>\n",
              "  </div>\n"
            ],
            "application/vnd.google.colaboratory.intrinsic+json": {
              "type": "dataframe",
              "summary": "{\n  \"name\": \"df\",\n  \"rows\": 18,\n  \"fields\": [\n    {\n      \"column\": 0,\n      \"properties\": {\n        \"dtype\": \"category\",\n        \"num_unique_values\": 2,\n        \"samples\": [\n          \"13611\",\n          \"count\"\n        ],\n        \"semantic_type\": \"\",\n        \"description\": \"\"\n      }\n    },\n    {\n      \"column\": 1,\n      \"properties\": {\n        \"dtype\": \"string\",\n        \"num_unique_values\": 17,\n        \"samples\": [\n          \"mean\",\n          \"53048.284549261625\"\n        ],\n        \"semantic_type\": \"\",\n        \"description\": \"\"\n      }\n    },\n    {\n      \"column\": 2,\n      \"properties\": {\n        \"dtype\": \"string\",\n        \"num_unique_values\": 17,\n        \"samples\": [\n          \"stddev\",\n          \"29324.09571688207\"\n        ],\n        \"semantic_type\": \"\",\n        \"description\": \"\"\n      }\n    },\n    {\n      \"column\": 3,\n      \"properties\": {\n        \"dtype\": \"string\",\n        \"num_unique_values\": 18,\n        \"samples\": [\n          \"min\",\n          \"20420\"\n        ],\n        \"semantic_type\": \"\",\n        \"description\": \"\"\n      }\n    },\n    {\n      \"column\": 4,\n      \"properties\": {\n        \"dtype\": \"string\",\n        \"num_unique_values\": 18,\n        \"samples\": [\n          \"max\",\n          \"254616\"\n        ],\n        \"semantic_type\": \"\",\n        \"description\": \"\"\n      }\n    }\n  ]\n}"
            }
          },
          "metadata": {},
          "execution_count": 15
        }
      ],
      "source": [
        "df.describe().toPandas().transpose()"
      ]
    },
    {
      "cell_type": "code",
      "execution_count": 16,
      "metadata": {
        "colab": {
          "base_uri": "https://localhost:8080/"
        },
        "id": "mf3GVJenwBGn",
        "outputId": "60e5f721-1061-47d3-8cc3-c767eee76f8e"
      },
      "outputs": [
        {
          "output_type": "stream",
          "name": "stdout",
          "text": [
            "+-----+---------+-----------+-----------+-----------+-----+\n",
            "| Area|Perimeter|   Solidity|  roundness|Compactness|Class|\n",
            "+-----+---------+-----------+-----------+-----------+-----+\n",
            "|28395|  610.291|0.988855999|0.958027126|0.913357755|SEKER|\n",
            "|28734|  638.018|0.984985603|0.887033637|0.953860842|SEKER|\n",
            "|29380|   624.11|0.989558774|0.947849473|0.908774239|SEKER|\n",
            "|30008|  645.884|0.976695743|0.903936374|0.928328835|SEKER|\n",
            "|30140|  620.134| 0.99089325|0.984877069|0.970515523|SEKER|\n",
            "+-----+---------+-----------+-----------+-----------+-----+\n",
            "only showing top 5 rows\n",
            "\n"
          ]
        }
      ],
      "source": [
        "df.select([\"Area\",\"Perimeter\",\"Solidity\",\"roundness\",\"Compactness\",\"Class\"]).show(5)"
      ]
    },
    {
      "cell_type": "code",
      "execution_count": 17,
      "metadata": {
        "colab": {
          "base_uri": "https://localhost:8080/"
        },
        "id": "lfonE2o8wBGo",
        "outputId": "16173f27-004d-44ca-e403-3a00b5eea9e6"
      },
      "outputs": [
        {
          "output_type": "stream",
          "name": "stdout",
          "text": [
            "+--------+-----+\n",
            "|   Class|count|\n",
            "+--------+-----+\n",
            "|  BOMBAY|  522|\n",
            "|BARBUNYA| 1322|\n",
            "|    CALI| 1630|\n",
            "|   HOROZ| 1928|\n",
            "|   SEKER| 2027|\n",
            "|    SIRA| 2636|\n",
            "|DERMASON| 3546|\n",
            "+--------+-----+\n",
            "\n"
          ]
        }
      ],
      "source": [
        "df.groupBy('Class').count().orderBy('count').show()"
      ]
    },
    {
      "cell_type": "code",
      "execution_count": 18,
      "metadata": {
        "collapsed": true,
        "id": "5-RpzxWlwBGo"
      },
      "outputs": [],
      "source": [
        "# Convert Class column from string to numerical values\n",
        "from pyspark.ml.feature import StringIndexer\n",
        "indexer = StringIndexer(inputCol=\"Class\", outputCol=\"label\")\n",
        "df = indexer.fit(df).transform(df)"
      ]
    },
    {
      "cell_type": "code",
      "execution_count": 19,
      "metadata": {
        "colab": {
          "base_uri": "https://localhost:8080/"
        },
        "id": "WSmrMMjFwBGp",
        "outputId": "8dd84ed9-c5c0-4046-fc67-347fe95a9ca5"
      },
      "outputs": [
        {
          "output_type": "stream",
          "name": "stdout",
          "text": [
            "+-----+-----+\n",
            "|label|count|\n",
            "+-----+-----+\n",
            "|  6.0|  522|\n",
            "|  5.0| 1322|\n",
            "|  4.0| 1630|\n",
            "|  3.0| 1928|\n",
            "|  2.0| 2027|\n",
            "|  1.0| 2636|\n",
            "|  0.0| 3546|\n",
            "+-----+-----+\n",
            "\n"
          ]
        }
      ],
      "source": [
        "df.groupBy('label').count().orderBy('count').show()"
      ]
    },
    {
      "cell_type": "markdown",
      "source": [
        "#  Classification"
      ],
      "metadata": {
        "id": "HmX1U1HX2i3n"
      }
    },
    {
      "cell_type": "code",
      "source": [
        "from pyspark.sql import DataFrameNaFunctions\n",
        "from pyspark.ml import Pipeline\n",
        "from pyspark.ml.feature import Binarizer\n",
        "from pyspark.ml.feature import VectorAssembler, StringIndexer, VectorIndexer"
      ],
      "metadata": {
        "id": "ElV2ZP113G1R"
      },
      "execution_count": 20,
      "outputs": []
    },
    {
      "cell_type": "code",
      "source": [
        "featureColumns =df.columns[:-2]"
      ],
      "metadata": {
        "id": "ktPd8SpG76hy"
      },
      "execution_count": 21,
      "outputs": []
    },
    {
      "cell_type": "code",
      "source": [
        "assembler = VectorAssembler(inputCols=featureColumns, outputCol=\"features\")\n",
        "df_assembled = assembler.transform(df)"
      ],
      "metadata": {
        "id": "FEm523ct2sab"
      },
      "execution_count": 22,
      "outputs": []
    },
    {
      "cell_type": "code",
      "source": [
        "df_assembled.show(10)"
      ],
      "metadata": {
        "id": "sx7TeYw6VT3D",
        "colab": {
          "base_uri": "https://localhost:8080/"
        },
        "outputId": "fe07916d-c041-457b-a36a-03ddf67504bb"
      },
      "execution_count": 23,
      "outputs": [
        {
          "output_type": "stream",
          "name": "stdout",
          "text": [
            "+-----+---------+---------------+---------------+------------+------------+----------+-------------+-----------+-----------+-----------+-----------+------------+------------+------------+------------+-----+-----+--------------------+\n",
            "| Area|Perimeter|MajorAxisLength|MinorAxisLength|AspectRation|Eccentricity|ConvexArea|EquivDiameter|     Extent|   Solidity|  roundness|Compactness|ShapeFactor1|ShapeFactor2|ShapeFactor3|ShapeFactor4|Class|label|            features|\n",
            "+-----+---------+---------------+---------------+------------+------------+----------+-------------+-----------+-----------+-----------+-----------+------------+------------+------------+------------+-----+-----+--------------------+\n",
            "|28395|  610.291|    208.1781167|     173.888747| 1.197191424| 0.549812187|     28715|  190.1410973|0.763922518|0.988855999|0.958027126|0.913357755| 0.007331506| 0.003147289| 0.834222388| 0.998723889|SEKER|  2.0|[28395.0,610.291,...|\n",
            "|28734|  638.018|    200.5247957|    182.7344194| 1.097356461| 0.411785251|     29172|  191.2727505|0.783968133|0.984985603|0.887033637|0.953860842| 0.006978659| 0.003563624| 0.909850506| 0.998430331|SEKER|  2.0|[28734.0,638.018,...|\n",
            "|29380|   624.11|    212.8261299|    175.9311426| 1.209712656| 0.562727317|     29690|  193.4109041|0.778113248|0.989558774|0.947849473|0.908774239| 0.007243912| 0.003047733| 0.825870617| 0.999066137|SEKER|  2.0|[29380.0,624.11,2...|\n",
            "|30008|  645.884|     210.557999|    182.5165157| 1.153638059| 0.498615976|     30724|  195.4670618|0.782681273|0.976695743|0.903936374|0.928328835| 0.007016729| 0.003214562| 0.861794425| 0.994198849|SEKER|  2.0|[30008.0,645.884,...|\n",
            "|30140|  620.134|    201.8478822|    190.2792788|  1.06079802| 0.333679658|     30417|   195.896503|0.773098035| 0.99089325|0.984877069|0.970515523|  0.00669701| 0.003664972| 0.941900381| 0.999166059|SEKER|  2.0|[30140.0,620.134,...|\n",
            "|30279|  634.927|    212.5605564|    181.5101816| 1.171066849|  0.52040066|     30600|  196.3477022|0.775688485|0.989509804|0.943851783|0.923725952| 0.007020065| 0.003152779| 0.853269634| 0.999235781|SEKER|  2.0|[30279.0,634.927,...|\n",
            "|30477|  670.033|    211.0501553|    184.0390501| 1.146768336| 0.489477894|     30970|  196.9886332|0.762401501|0.984081369|0.853079869|0.933373552| 0.006924899| 0.003242016| 0.871186188| 0.999048736|SEKER|  2.0|[30477.0,670.033,...|\n",
            "|30519|  629.727|    212.9967551|    182.7372038| 1.165590535| 0.513759558|     30847|  197.1243203|0.770681818|0.989366875|0.967109244|0.925480392| 0.006979152| 0.003158285| 0.856513956|  0.99834456|SEKER|  2.0|[30519.0,629.727,...|\n",
            "|30685|  635.681|    213.5341452|    183.1571463| 1.165852108|  0.51408086|     31044|   197.659696|0.771561479|0.988435769|0.954239808|0.925658498|  0.00695891|  0.00315155| 0.856843654| 0.998952981|SEKER|  2.0|[30685.0,635.681,...|\n",
            "|30834|  631.934|    217.2278128|    180.8974686|   1.2008339| 0.553642225|     31120|  198.1390121|0.783682806|0.990809769| 0.97027823| 0.91212543| 0.007045074|  0.00300804|   0.8319728| 0.999061142|SEKER|  2.0|[30834.0,631.934,...|\n",
            "+-----+---------+---------------+---------------+------------+------------+----------+-------------+-----------+-----------+-----------+-----------+------------+------------+------------+------------+-----+-----+--------------------+\n",
            "only showing top 10 rows\n",
            "\n"
          ]
        }
      ]
    },
    {
      "cell_type": "code",
      "source": [
        "(trainingData, testData) = df_assembled.randomSplit([0.8,0.2], seed = 13234 )"
      ],
      "metadata": {
        "id": "TFmGmVU72tnv"
      },
      "execution_count": 24,
      "outputs": []
    },
    {
      "cell_type": "code",
      "source": [
        "trainingData.count(),testData.count()"
      ],
      "metadata": {
        "id": "gaZkw9Pi2uzu",
        "colab": {
          "base_uri": "https://localhost:8080/"
        },
        "outputId": "576aa9d0-dba7-40c7-b8d7-6595311afe39"
      },
      "execution_count": 25,
      "outputs": [
        {
          "output_type": "execute_result",
          "data": {
            "text/plain": [
              "(10856, 2755)"
            ]
          },
          "metadata": {},
          "execution_count": 25
        }
      ]
    },
    {
      "cell_type": "code",
      "source": [
        "from pyspark.ml.classification import DecisionTreeClassifier,LogisticRegression\n",
        "lr = LogisticRegression(featuresCol=\"features\", labelCol=\"label\")\n",
        "model = lr.fit(trainingData)"
      ],
      "metadata": {
        "id": "BNpJj2Ko2wmQ"
      },
      "execution_count": 26,
      "outputs": []
    },
    {
      "cell_type": "code",
      "source": [
        "#dt = DecisionTreeClassifier(labelCol=\"label\", featuresCol=\"features\", maxDepth=5,minInstancesPerNode=20, impurity=\"gini\")\n",
        "#pipeline = Pipeline(stages=[dt])\n",
        "#model = pipeline.fit(trainingData)"
      ],
      "metadata": {
        "id": "HIIzZ_kH2yU7"
      },
      "execution_count": 27,
      "outputs": []
    },
    {
      "cell_type": "code",
      "source": [
        "predictions = model.transform(testData)"
      ],
      "metadata": {
        "id": "QqQTRppW2zo8"
      },
      "execution_count": 28,
      "outputs": []
    },
    {
      "cell_type": "code",
      "source": [
        "predictions.show()"
      ],
      "metadata": {
        "colab": {
          "base_uri": "https://localhost:8080/"
        },
        "id": "TXp0ksB0TQOY",
        "outputId": "9047b575-dfbd-4363-dd9c-cf7d5f9e0e7c"
      },
      "execution_count": 29,
      "outputs": [
        {
          "output_type": "stream",
          "name": "stdout",
          "text": [
            "+-----+---------+---------------+---------------+------------+------------+----------+-------------+-----------+-----------+-----------+-----------+------------+------------+------------+------------+--------+-----+--------------------+--------------------+--------------------+----------+\n",
            "| Area|Perimeter|MajorAxisLength|MinorAxisLength|AspectRation|Eccentricity|ConvexArea|EquivDiameter|     Extent|   Solidity|  roundness|Compactness|ShapeFactor1|ShapeFactor2|ShapeFactor3|ShapeFactor4|   Class|label|            features|       rawPrediction|         probability|prediction|\n",
            "+-----+---------+---------------+---------------+------------+------------+----------+-------------+-----------+-----------+-----------+-----------+------------+------------+------------+------------+--------+-----+--------------------+--------------------+--------------------+----------+\n",
            "|21397|  535.436|    192.5302973|    141.6521869| 1.359176314| 0.677264398|     21731|  165.0560709|0.772650128|0.984630252|0.937880736|0.857299205| 0.008998004| 0.002998166| 0.734961927| 0.998942844|DERMASON|  0.0|[21397.0,535.436,...|[22.7904027277230...|[0.99997418942471...|       0.0|\n",
            "|21706|  546.187|    199.3233899|    138.8673301| 1.435351208| 0.717368823|     22006|  166.2436091|0.791034985|0.986367354|0.914338368|0.834039644| 0.009182871| 0.002740975| 0.695622127|  0.99846206|DERMASON|  0.0|[21706.0,546.187,...|[23.1095114002520...|[0.99994026721222...|       0.0|\n",
            "|21830|  543.295|    201.3477434|    138.5355551|  1.45340121| 0.725671568|     22029|  166.7177833|0.731029402|0.990966453|0.929377563|0.828009197| 0.009223442|  0.00267432|  0.68559923| 0.996450751|DERMASON|  0.0|[21830.0,543.295,...|[23.9089584754548...|[0.99984677198001...|       0.0|\n",
            "|21961|  551.696|    204.7763134|    136.7099579|  1.49788879| 0.744514487|     22267|  167.2172648|0.780419332|0.986257691|0.906697265|0.816584995| 0.009324544| 0.002557484| 0.666811053| 0.998808802|DERMASON|  0.0|[21961.0,551.696,...|[23.6182768552975...|[0.99993871558807...|       0.0|\n",
            "|22158|  542.436|    198.7751249|    142.1554953|  1.39829364| 0.698963474|     22424|  167.9655972|0.743656867| 0.98813771|0.946331753|0.845003102| 0.008970806| 0.002821269| 0.714030242| 0.998423947|DERMASON|  0.0|[22158.0,542.436,...|[22.8611735301309...|[0.99997474626916...|       0.0|\n",
            "|22162|   568.07|      219.33739|    129.5762069| 1.692728899| 0.806845832|     22502|  167.9807572|0.727601037|0.984890232|0.863008564|0.765855549| 0.009897003|  0.00210025| 0.586534722| 0.992844273|DERMASON|  0.0|[22162.0,568.07,2...|[25.3774634256572...|[0.98561492453775...|       0.0|\n",
            "|22461|  544.584|    192.8013032|    148.5411365|  1.29796572| 0.637516899|     22699|  169.1101222| 0.77473096|0.989514957|0.951720002|0.877121261| 0.008583825| 0.003134001| 0.769341707| 0.998579162|DERMASON|  0.0|[22461.0,544.584,...|[20.4813579055176...|[0.99972670525664...|       0.0|\n",
            "|22687|  553.435|    204.6909196|    141.2405819| 1.449235884| 0.723791449|     22989|   169.958776|0.721734428|0.986863282|0.930794253| 0.83031908| 0.009022388| 0.002645339| 0.689429774| 0.999146368|DERMASON|  0.0|[22687.0,553.435,...|[22.9897326973708...|[0.99998421459430...|       0.0|\n",
            "|22721|    553.6|    201.1671865|    144.0509676| 1.396500072| 0.698022458|     23016|  170.0860832|0.776706663|0.987182829|0.931633599|0.845496157|   0.0088538| 0.002790975| 0.714863752| 0.998307281|DERMASON|  0.0|[22721.0,553.6,20...|[21.7195729230553...|[0.99996223979091...|       0.0|\n",
            "|22777|  563.861|     204.878906|    141.8015588| 1.444828306| 0.721778845|     23071|  170.2955581|0.772049353|0.987256729| 0.90024822|0.831201032| 0.008994991| 0.002648529| 0.690895155| 0.998224877|DERMASON|  0.0|[22777.0,563.861,...|[21.9639311521015...|[0.99991789365453...|       0.0|\n",
            "|22931|  559.526|     207.806204|    140.8498712|  1.47537376| 0.735251534|     23207|    170.87029|0.806861365|0.988107037|0.920433282|0.822257886| 0.009062239| 0.002555333| 0.676108031| 0.997512047|DERMASON|  0.0|[22931.0,559.526,...|[22.1640133937906...|[0.99990207873276...|       0.0|\n",
            "|23369|  567.724|    215.8616876|    138.1170076| 1.562889982| 0.768507896|     23658|   172.494449| 0.79131112|0.987784259|  0.9111198|0.799097102| 0.009237096| 0.002323344| 0.638556178| 0.997993054|DERMASON|  0.0|[23369.0,567.724,...|[22.6708554291158...|[0.99986138296754...|       0.0|\n",
            "|23393|  566.451|    208.3896394|    143.7053079| 1.450117901| 0.724191329|     23702|  172.5830023|0.715119834|0.986963125|  0.9161595|0.828174581| 0.008908205| 0.002584982| 0.685873136| 0.994596913|DERMASON|  0.0|[23393.0,566.451,...|[22.1925212920524...|[0.99982167881497...|       0.0|\n",
            "|23500|  570.486|    209.9116344|     143.070924| 1.467185843| 0.731746479|     23931|  172.9772508|0.734834271|0.981989888|0.907376953|0.824047944|  0.00893241| 0.002540729| 0.679055015| 0.996299905|DERMASON|  0.0|[23500.0,570.486,...|[22.0729988623598...|[0.99995122242476...|       0.0|\n",
            "|23532|  567.875|    209.9588895|    143.0493175| 1.467737793| 0.731985132|     23855|  173.0949825|0.709864253|0.986459862|0.916987053|0.824423214| 0.008922271| 0.002542471| 0.679673636| 0.997582682|DERMASON|  0.0|[23532.0,567.875,...|[22.2542967741403...|[0.99996196239838...|       0.0|\n",
            "|23553|   577.69|    216.3088938|    138.9570923| 1.556659615| 0.766368516|     23850|  173.1722004|0.695106835| 0.98754717|0.886883135|0.800578272| 0.009183921| 0.002327143| 0.640925569|  0.99770295|DERMASON|  0.0|[23553.0,577.69,2...|[22.9345911380614...|[0.99984918343656...|       0.0|\n",
            "|23562|  612.084|    246.2504516|    122.5126535| 2.010000148| 0.867456864|     23959|  173.2052833|0.698257468|0.983430026|0.790314521|0.703370419| 0.010451169| 0.001577906| 0.494729946| 0.994407265|DERMASON|  0.0|[23562.0,612.084,...|[24.7110987725804...|[0.05525668752763...|       3.0|\n",
            "|23590|  561.266|     199.563129|    150.6856359| 1.324367302| 0.655635504|     23907|  173.3081673|0.750270339|0.986740285|0.941023211|0.868437813| 0.008459649| 0.002968158| 0.754184235|  0.99881694|DERMASON|  0.0|[23590.0,561.266,...|[19.8997271356786...|[0.99990082627431...|       0.0|\n",
            "|23662|  575.093|    207.9470169|    145.1253317|  1.43287884| 0.716199395|     24014|  173.5724463|0.717813372|0.985341884|0.899052703|0.834695534| 0.008788227| 0.002631439| 0.696716634| 0.998310522|DERMASON|  0.0|[23662.0,575.093,...|[21.3280467570619...|[0.99996288538085...|       0.0|\n",
            "|23684|  571.022|      207.23373|    145.8234678|  1.42112743| 0.710530241|     23967|   173.653118|0.768162948|0.988192097|0.912765538|0.837957788| 0.008749946| 0.002661177| 0.702173254| 0.997877672|DERMASON|  0.0|[23684.0,571.022,...|[20.8198074645390...|[0.99992868523000...|       0.0|\n",
            "+-----+---------+---------------+---------------+------------+------------+----------+-------------+-----------+-----------+-----------+-----------+------------+------------+------------+------------+--------+-----+--------------------+--------------------+--------------------+----------+\n",
            "only showing top 20 rows\n",
            "\n"
          ]
        }
      ]
    },
    {
      "cell_type": "code",
      "source": [
        "predictions.select(\"features\",\"rawprediction\",\"probability\",\"prediction\", \"label\").show(10)"
      ],
      "metadata": {
        "id": "5W4Z7VUsEAr8",
        "colab": {
          "base_uri": "https://localhost:8080/"
        },
        "outputId": "3f489d15-a97b-4032-de79-1a17fb7f25b3"
      },
      "execution_count": 30,
      "outputs": [
        {
          "output_type": "stream",
          "name": "stdout",
          "text": [
            "+--------------------+--------------------+--------------------+----------+-----+\n",
            "|            features|       rawprediction|         probability|prediction|label|\n",
            "+--------------------+--------------------+--------------------+----------+-----+\n",
            "|[21397.0,535.436,...|[22.7904027277230...|[0.99997418942471...|       0.0|  0.0|\n",
            "|[21706.0,546.187,...|[23.1095114002520...|[0.99994026721222...|       0.0|  0.0|\n",
            "|[21830.0,543.295,...|[23.9089584754548...|[0.99984677198001...|       0.0|  0.0|\n",
            "|[21961.0,551.696,...|[23.6182768552975...|[0.99993871558807...|       0.0|  0.0|\n",
            "|[22158.0,542.436,...|[22.8611735301309...|[0.99997474626916...|       0.0|  0.0|\n",
            "|[22162.0,568.07,2...|[25.3774634256572...|[0.98561492453775...|       0.0|  0.0|\n",
            "|[22461.0,544.584,...|[20.4813579055176...|[0.99972670525664...|       0.0|  0.0|\n",
            "|[22687.0,553.435,...|[22.9897326973708...|[0.99998421459430...|       0.0|  0.0|\n",
            "|[22721.0,553.6,20...|[21.7195729230553...|[0.99996223979091...|       0.0|  0.0|\n",
            "|[22777.0,563.861,...|[21.9639311521015...|[0.99991789365453...|       0.0|  0.0|\n",
            "+--------------------+--------------------+--------------------+----------+-----+\n",
            "only showing top 10 rows\n",
            "\n"
          ]
        }
      ]
    },
    {
      "cell_type": "code",
      "source": [
        "prediction_save=predictions.select(\"features\",\"rawprediction\",\"probability\",\"prediction\", \"label\").show()"
      ],
      "metadata": {
        "id": "RBUeH1rD21JU",
        "colab": {
          "base_uri": "https://localhost:8080/"
        },
        "outputId": "12bf99af-58e5-4196-b804-6f48e6a68bf4"
      },
      "execution_count": 31,
      "outputs": [
        {
          "output_type": "stream",
          "name": "stdout",
          "text": [
            "+--------------------+--------------------+--------------------+----------+-----+\n",
            "|            features|       rawprediction|         probability|prediction|label|\n",
            "+--------------------+--------------------+--------------------+----------+-----+\n",
            "|[21397.0,535.436,...|[22.7904027277230...|[0.99997418942471...|       0.0|  0.0|\n",
            "|[21706.0,546.187,...|[23.1095114002520...|[0.99994026721222...|       0.0|  0.0|\n",
            "|[21830.0,543.295,...|[23.9089584754548...|[0.99984677198001...|       0.0|  0.0|\n",
            "|[21961.0,551.696,...|[23.6182768552975...|[0.99993871558807...|       0.0|  0.0|\n",
            "|[22158.0,542.436,...|[22.8611735301309...|[0.99997474626916...|       0.0|  0.0|\n",
            "|[22162.0,568.07,2...|[25.3774634256572...|[0.98561492453775...|       0.0|  0.0|\n",
            "|[22461.0,544.584,...|[20.4813579055176...|[0.99972670525664...|       0.0|  0.0|\n",
            "|[22687.0,553.435,...|[22.9897326973708...|[0.99998421459430...|       0.0|  0.0|\n",
            "|[22721.0,553.6,20...|[21.7195729230553...|[0.99996223979091...|       0.0|  0.0|\n",
            "|[22777.0,563.861,...|[21.9639311521015...|[0.99991789365453...|       0.0|  0.0|\n",
            "|[22931.0,559.526,...|[22.1640133937906...|[0.99990207873276...|       0.0|  0.0|\n",
            "|[23369.0,567.724,...|[22.6708554291158...|[0.99986138296754...|       0.0|  0.0|\n",
            "|[23393.0,566.451,...|[22.1925212920524...|[0.99982167881497...|       0.0|  0.0|\n",
            "|[23500.0,570.486,...|[22.0729988623598...|[0.99995122242476...|       0.0|  0.0|\n",
            "|[23532.0,567.875,...|[22.2542967741403...|[0.99996196239838...|       0.0|  0.0|\n",
            "|[23553.0,577.69,2...|[22.9345911380614...|[0.99984918343656...|       0.0|  0.0|\n",
            "|[23562.0,612.084,...|[24.7110987725804...|[0.05525668752763...|       3.0|  0.0|\n",
            "|[23590.0,561.266,...|[19.8997271356786...|[0.99990082627431...|       0.0|  0.0|\n",
            "|[23662.0,575.093,...|[21.3280467570619...|[0.99996288538085...|       0.0|  0.0|\n",
            "|[23684.0,571.022,...|[20.8198074645390...|[0.99992868523000...|       0.0|  0.0|\n",
            "+--------------------+--------------------+--------------------+----------+-----+\n",
            "only showing top 20 rows\n",
            "\n"
          ]
        }
      ]
    },
    {
      "cell_type": "code",
      "source": [
        "predictions.select(\"prediction\", \"label\").write.save(path=\"predictions\",\n",
        "                                                     format=\"com.databricks.spark.csv\",\n",
        "                                                     header='true')"
      ],
      "metadata": {
        "id": "lb-NXq5BUN2p"
      },
      "execution_count": 32,
      "outputs": []
    },
    {
      "cell_type": "code",
      "source": [
        "prediction_save=predictions.select(\"prediction\", \"label\")"
      ],
      "metadata": {
        "id": "dF8nU3AkVizJ"
      },
      "execution_count": 33,
      "outputs": []
    },
    {
      "cell_type": "markdown",
      "source": [
        "# Evaluations"
      ],
      "metadata": {
        "id": "FQd4thPrPJmx"
      }
    },
    {
      "cell_type": "code",
      "source": [
        "from pyspark.ml.evaluation import MulticlassClassificationEvaluator\n",
        "from pyspark.mllib.evaluation import MulticlassMetrics"
      ],
      "metadata": {
        "id": "yZvA8ltr8meX"
      },
      "execution_count": 34,
      "outputs": []
    },
    {
      "cell_type": "code",
      "source": [
        "evaluator = MulticlassClassificationEvaluator(\n",
        "    labelCol=\"label\", predictionCol=\"prediction\", metricName=\"accuracy\")"
      ],
      "metadata": {
        "id": "04ab1wtB8mMq"
      },
      "execution_count": 35,
      "outputs": []
    },
    {
      "cell_type": "code",
      "source": [
        "accuracy = evaluator.evaluate(predictions)\n",
        "print(\"Accuracy = %g \" % (accuracy))"
      ],
      "metadata": {
        "id": "0lWjaRbd8rm7",
        "colab": {
          "base_uri": "https://localhost:8080/"
        },
        "outputId": "446081f8-bb0d-4d5a-bd3d-4f66c56d75bb"
      },
      "execution_count": 36,
      "outputs": [
        {
          "output_type": "stream",
          "name": "stdout",
          "text": [
            "Accuracy = 0.931397 \n"
          ]
        }
      ]
    },
    {
      "cell_type": "code",
      "source": [
        "# Evaluate model performance\n",
        "evaluator = MulticlassClassificationEvaluator(labelCol=\"label\", predictionCol=\"prediction\", metricName=\"accuracy\")\n",
        "accuracy = evaluator.evaluate(predictions)\n",
        "print(\"Accuracy =\", accuracy)\n"
      ],
      "metadata": {
        "id": "VPPyeqhG8vhX",
        "colab": {
          "base_uri": "https://localhost:8080/"
        },
        "outputId": "ebf626d9-6b37-4eaf-eb87-d886aa555887"
      },
      "execution_count": 37,
      "outputs": [
        {
          "output_type": "stream",
          "name": "stdout",
          "text": [
            "Accuracy = 0.9313974591651543\n"
          ]
        }
      ]
    },
    {
      "cell_type": "code",
      "source": [
        "evaluator = MulticlassClassificationEvaluator(labelCol=\"label\", predictionCol=\"prediction\", metricName=\"weightedRecall\")\n",
        "recall = evaluator.evaluate(predictions)\n",
        "print(\"Recall =\", recall)\n"
      ],
      "metadata": {
        "colab": {
          "base_uri": "https://localhost:8080/"
        },
        "id": "zZDtglhmVSHZ",
        "outputId": "5d1d06ca-5bc8-4627-afd8-8e9c7bc788ca"
      },
      "execution_count": 38,
      "outputs": [
        {
          "output_type": "stream",
          "name": "stdout",
          "text": [
            "Recall = 0.9313974591651542\n"
          ]
        }
      ]
    },
    {
      "cell_type": "code",
      "source": [
        "evaluator = MulticlassClassificationEvaluator(labelCol=\"label\", predictionCol=\"prediction\", metricName=\"f1\")\n",
        "f1_score = evaluator.evaluate(predictions)\n",
        "print(\"F1 score = \", f1_score)\n"
      ],
      "metadata": {
        "colab": {
          "base_uri": "https://localhost:8080/"
        },
        "id": "zaKlvTNrVTwl",
        "outputId": "ce5002bf-f479-483b-a80b-a94f6fc0cf51"
      },
      "execution_count": 39,
      "outputs": [
        {
          "output_type": "stream",
          "name": "stdout",
          "text": [
            "F1 score =  0.9314690565989844\n"
          ]
        }
      ]
    },
    {
      "cell_type": "code",
      "source": [
        "metrics = MulticlassMetrics(prediction_save.rdd.map(tuple))"
      ],
      "metadata": {
        "id": "wJSZKI908xWD",
        "colab": {
          "base_uri": "https://localhost:8080/"
        },
        "outputId": "7317c97a-7d2c-4776-c26c-935c427ba4ea"
      },
      "execution_count": 40,
      "outputs": [
        {
          "output_type": "stream",
          "name": "stderr",
          "text": [
            "/usr/local/lib/python3.10/dist-packages/pyspark/sql/context.py:158: FutureWarning: Deprecated in 3.0.0. Use SparkSession.builder.getOrCreate() instead.\n",
            "  warnings.warn(\n"
          ]
        }
      ]
    },
    {
      "cell_type": "code",
      "source": [
        "metrics.confusionMatrix().toArray().transpose()"
      ],
      "metadata": {
        "id": "EN0KiP658zPI",
        "colab": {
          "base_uri": "https://localhost:8080/"
        },
        "outputId": "11965115-21cd-4dcd-c4ba-e499e237c3fb"
      },
      "execution_count": 41,
      "outputs": [
        {
          "output_type": "execute_result",
          "data": {
            "text/plain": [
              "array([[668.,  50.,   2.,   1.,   0.,   0.,   0.],\n",
              "       [ 51., 473.,  13.,   3.,   3.,   7.,   0.],\n",
              "       [  6.,   5., 400.,   0.,   0.,   2.,   0.],\n",
              "       [  3.,   7.,   1., 363.,   4.,   0.,   0.],\n",
              "       [  0.,   4.,   1.,   3., 317.,  13.,   0.],\n",
              "       [  0.,   1.,   4.,   1.,   4., 240.,   0.],\n",
              "       [  0.,   0.,   0.,   0.,   0.,   0., 105.]])"
            ]
          },
          "metadata": {},
          "execution_count": 41
        }
      ]
    },
    {
      "cell_type": "markdown",
      "source": [
        "\n",
        "# Try with fewer features/ Try with Decision Tree"
      ],
      "metadata": {
        "id": "tq2kcscmPNqq"
      }
    },
    {
      "cell_type": "code",
      "source": [],
      "metadata": {
        "id": "7IlZHqyYaURR"
      },
      "execution_count": null,
      "outputs": []
    },
    {
      "cell_type": "code",
      "source": [],
      "metadata": {
        "id": "NZd4Wv93aUU5"
      },
      "execution_count": null,
      "outputs": []
    },
    {
      "cell_type": "code",
      "source": [
        "sc.stop()"
      ],
      "metadata": {
        "id": "ZyXrF7Tu4514"
      },
      "execution_count": 42,
      "outputs": []
    },
    {
      "cell_type": "markdown",
      "source": [
        "# Exercise Diabates data"
      ],
      "metadata": {
        "id": "bJdRtm1ZaV0v"
      }
    },
    {
      "cell_type": "code",
      "source": [],
      "metadata": {
        "id": "u3Hi4zp25UFX"
      },
      "execution_count": null,
      "outputs": []
    }
  ],
  "metadata": {
    "kernelspec": {
      "display_name": "Python 3",
      "language": "python",
      "name": "python3"
    },
    "language_info": {
      "codemirror_mode": {
        "name": "ipython",
        "version": 3
      },
      "file_extension": ".py",
      "mimetype": "text/x-python",
      "name": "python",
      "nbconvert_exporter": "python",
      "pygments_lexer": "ipython3",
      "version": "3.5.1"
    },
    "colab": {
      "provenance": []
    }
  },
  "nbformat": 4,
  "nbformat_minor": 0
}