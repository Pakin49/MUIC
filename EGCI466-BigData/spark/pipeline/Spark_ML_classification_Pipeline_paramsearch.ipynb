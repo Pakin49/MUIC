{
  "cells": [
    {
      "cell_type": "markdown",
      "source": [
        "# Import Libraries"
      ],
      "metadata": {
        "id": "cuDOxDHdOtFW"
      }
    },
    {
      "cell_type": "code",
      "source": [
        "# Installing required packages\n",
        "!pip install pyspark\n",
        "!pip install findspark"
      ],
      "metadata": {
        "colab": {
          "base_uri": "https://localhost:8080/"
        },
        "id": "FAtJ8Jh_z-7t",
        "outputId": "8f200c0b-c194-4af3-acaa-6ffbd0924faf"
      },
      "execution_count": 1,
      "outputs": [
        {
          "output_type": "stream",
          "name": "stdout",
          "text": [
            "Collecting pyspark\n",
            "  Downloading pyspark-3.5.1.tar.gz (317.0 MB)\n",
            "\u001b[2K     \u001b[90m━━━━━━━━━━━━━━━━━━━━━━━━━━━━━━━━━━━━━━━━\u001b[0m \u001b[32m317.0/317.0 MB\u001b[0m \u001b[31m3.6 MB/s\u001b[0m eta \u001b[36m0:00:00\u001b[0m\n",
            "\u001b[?25h  Preparing metadata (setup.py) ... \u001b[?25l\u001b[?25hdone\n",
            "Requirement already satisfied: py4j==0.10.9.7 in /usr/local/lib/python3.10/dist-packages (from pyspark) (0.10.9.7)\n",
            "Building wheels for collected packages: pyspark\n",
            "  Building wheel for pyspark (setup.py) ... \u001b[?25l\u001b[?25hdone\n",
            "  Created wheel for pyspark: filename=pyspark-3.5.1-py2.py3-none-any.whl size=317488491 sha256=f596f75f6e2d14b29d76c6f5e868fe6ac03ad1c4f1f9510607dad78de5235468\n",
            "  Stored in directory: /root/.cache/pip/wheels/80/1d/60/2c256ed38dddce2fdd93be545214a63e02fbd8d74fb0b7f3a6\n",
            "Successfully built pyspark\n",
            "Installing collected packages: pyspark\n",
            "Successfully installed pyspark-3.5.1\n",
            "Collecting findspark\n",
            "  Downloading findspark-2.0.1-py2.py3-none-any.whl (4.4 kB)\n",
            "Installing collected packages: findspark\n",
            "Successfully installed findspark-2.0.1\n"
          ]
        }
      ]
    },
    {
      "cell_type": "code",
      "source": [
        "from pyspark import SparkContext, SparkConf\n",
        "from pyspark.sql import SparkSession,SQLContext"
      ],
      "metadata": {
        "id": "e34Q4qnfz-y8"
      },
      "execution_count": 7,
      "outputs": []
    },
    {
      "cell_type": "markdown",
      "source": [
        "# Create Spark Context"
      ],
      "metadata": {
        "id": "xDOcBO-rkuPB"
      }
    },
    {
      "cell_type": "code",
      "execution_count": 3,
      "metadata": {
        "collapsed": true,
        "id": "sqOwMWgOwBGi"
      },
      "outputs": [],
      "source": [
        "spark = SparkSession \\\n",
        "    .builder \\\n",
        "    .appName(\"ML_Classifications\") \\\n",
        "    .getOrCreate()\n",
        "\n"
      ]
    },
    {
      "cell_type": "code",
      "source": [
        "sc = spark.sparkContext\n",
        "sqlContext = SQLContext(sc)"
      ],
      "metadata": {
        "id": "PygI-deIZT-o",
        "colab": {
          "base_uri": "https://localhost:8080/"
        },
        "outputId": "0941df13-544b-4206-a990-e5b80f391509"
      },
      "execution_count": 4,
      "outputs": [
        {
          "output_type": "stream",
          "name": "stderr",
          "text": [
            "/usr/local/lib/python3.10/dist-packages/pyspark/sql/context.py:113: FutureWarning: Deprecated in 3.0.0. Use SparkSession.builder.getOrCreate() instead.\n",
            "  warnings.warn(\n"
          ]
        }
      ]
    },
    {
      "cell_type": "code",
      "source": [
        "# Upload files (Only in colabs)"
      ],
      "metadata": {
        "id": "tQRG5yVvOyty"
      },
      "execution_count": 5,
      "outputs": []
    },
    {
      "cell_type": "code",
      "source": [
        "from google.colab import files\n",
        "\n",
        "\n",
        "uploaded = files.upload()\n"
      ],
      "metadata": {
        "colab": {
          "base_uri": "https://localhost:8080/",
          "height": 73
        },
        "id": "FWglhYsLwPL0",
        "outputId": "87d9c9ee-2c24-4536-f54c-e8d7bc2ba033"
      },
      "execution_count": 6,
      "outputs": [
        {
          "output_type": "display_data",
          "data": {
            "text/plain": [
              "<IPython.core.display.HTML object>"
            ],
            "text/html": [
              "\n",
              "     <input type=\"file\" id=\"files-0695d71f-a394-4e27-95df-cedb5b44ddba\" name=\"files[]\" multiple disabled\n",
              "        style=\"border:none\" />\n",
              "     <output id=\"result-0695d71f-a394-4e27-95df-cedb5b44ddba\">\n",
              "      Upload widget is only available when the cell has been executed in the\n",
              "      current browser session. Please rerun this cell to enable.\n",
              "      </output>\n",
              "      <script>// Copyright 2017 Google LLC\n",
              "//\n",
              "// Licensed under the Apache License, Version 2.0 (the \"License\");\n",
              "// you may not use this file except in compliance with the License.\n",
              "// You may obtain a copy of the License at\n",
              "//\n",
              "//      http://www.apache.org/licenses/LICENSE-2.0\n",
              "//\n",
              "// Unless required by applicable law or agreed to in writing, software\n",
              "// distributed under the License is distributed on an \"AS IS\" BASIS,\n",
              "// WITHOUT WARRANTIES OR CONDITIONS OF ANY KIND, either express or implied.\n",
              "// See the License for the specific language governing permissions and\n",
              "// limitations under the License.\n",
              "\n",
              "/**\n",
              " * @fileoverview Helpers for google.colab Python module.\n",
              " */\n",
              "(function(scope) {\n",
              "function span(text, styleAttributes = {}) {\n",
              "  const element = document.createElement('span');\n",
              "  element.textContent = text;\n",
              "  for (const key of Object.keys(styleAttributes)) {\n",
              "    element.style[key] = styleAttributes[key];\n",
              "  }\n",
              "  return element;\n",
              "}\n",
              "\n",
              "// Max number of bytes which will be uploaded at a time.\n",
              "const MAX_PAYLOAD_SIZE = 100 * 1024;\n",
              "\n",
              "function _uploadFiles(inputId, outputId) {\n",
              "  const steps = uploadFilesStep(inputId, outputId);\n",
              "  const outputElement = document.getElementById(outputId);\n",
              "  // Cache steps on the outputElement to make it available for the next call\n",
              "  // to uploadFilesContinue from Python.\n",
              "  outputElement.steps = steps;\n",
              "\n",
              "  return _uploadFilesContinue(outputId);\n",
              "}\n",
              "\n",
              "// This is roughly an async generator (not supported in the browser yet),\n",
              "// where there are multiple asynchronous steps and the Python side is going\n",
              "// to poll for completion of each step.\n",
              "// This uses a Promise to block the python side on completion of each step,\n",
              "// then passes the result of the previous step as the input to the next step.\n",
              "function _uploadFilesContinue(outputId) {\n",
              "  const outputElement = document.getElementById(outputId);\n",
              "  const steps = outputElement.steps;\n",
              "\n",
              "  const next = steps.next(outputElement.lastPromiseValue);\n",
              "  return Promise.resolve(next.value.promise).then((value) => {\n",
              "    // Cache the last promise value to make it available to the next\n",
              "    // step of the generator.\n",
              "    outputElement.lastPromiseValue = value;\n",
              "    return next.value.response;\n",
              "  });\n",
              "}\n",
              "\n",
              "/**\n",
              " * Generator function which is called between each async step of the upload\n",
              " * process.\n",
              " * @param {string} inputId Element ID of the input file picker element.\n",
              " * @param {string} outputId Element ID of the output display.\n",
              " * @return {!Iterable<!Object>} Iterable of next steps.\n",
              " */\n",
              "function* uploadFilesStep(inputId, outputId) {\n",
              "  const inputElement = document.getElementById(inputId);\n",
              "  inputElement.disabled = false;\n",
              "\n",
              "  const outputElement = document.getElementById(outputId);\n",
              "  outputElement.innerHTML = '';\n",
              "\n",
              "  const pickedPromise = new Promise((resolve) => {\n",
              "    inputElement.addEventListener('change', (e) => {\n",
              "      resolve(e.target.files);\n",
              "    });\n",
              "  });\n",
              "\n",
              "  const cancel = document.createElement('button');\n",
              "  inputElement.parentElement.appendChild(cancel);\n",
              "  cancel.textContent = 'Cancel upload';\n",
              "  const cancelPromise = new Promise((resolve) => {\n",
              "    cancel.onclick = () => {\n",
              "      resolve(null);\n",
              "    };\n",
              "  });\n",
              "\n",
              "  // Wait for the user to pick the files.\n",
              "  const files = yield {\n",
              "    promise: Promise.race([pickedPromise, cancelPromise]),\n",
              "    response: {\n",
              "      action: 'starting',\n",
              "    }\n",
              "  };\n",
              "\n",
              "  cancel.remove();\n",
              "\n",
              "  // Disable the input element since further picks are not allowed.\n",
              "  inputElement.disabled = true;\n",
              "\n",
              "  if (!files) {\n",
              "    return {\n",
              "      response: {\n",
              "        action: 'complete',\n",
              "      }\n",
              "    };\n",
              "  }\n",
              "\n",
              "  for (const file of files) {\n",
              "    const li = document.createElement('li');\n",
              "    li.append(span(file.name, {fontWeight: 'bold'}));\n",
              "    li.append(span(\n",
              "        `(${file.type || 'n/a'}) - ${file.size} bytes, ` +\n",
              "        `last modified: ${\n",
              "            file.lastModifiedDate ? file.lastModifiedDate.toLocaleDateString() :\n",
              "                                    'n/a'} - `));\n",
              "    const percent = span('0% done');\n",
              "    li.appendChild(percent);\n",
              "\n",
              "    outputElement.appendChild(li);\n",
              "\n",
              "    const fileDataPromise = new Promise((resolve) => {\n",
              "      const reader = new FileReader();\n",
              "      reader.onload = (e) => {\n",
              "        resolve(e.target.result);\n",
              "      };\n",
              "      reader.readAsArrayBuffer(file);\n",
              "    });\n",
              "    // Wait for the data to be ready.\n",
              "    let fileData = yield {\n",
              "      promise: fileDataPromise,\n",
              "      response: {\n",
              "        action: 'continue',\n",
              "      }\n",
              "    };\n",
              "\n",
              "    // Use a chunked sending to avoid message size limits. See b/62115660.\n",
              "    let position = 0;\n",
              "    do {\n",
              "      const length = Math.min(fileData.byteLength - position, MAX_PAYLOAD_SIZE);\n",
              "      const chunk = new Uint8Array(fileData, position, length);\n",
              "      position += length;\n",
              "\n",
              "      const base64 = btoa(String.fromCharCode.apply(null, chunk));\n",
              "      yield {\n",
              "        response: {\n",
              "          action: 'append',\n",
              "          file: file.name,\n",
              "          data: base64,\n",
              "        },\n",
              "      };\n",
              "\n",
              "      let percentDone = fileData.byteLength === 0 ?\n",
              "          100 :\n",
              "          Math.round((position / fileData.byteLength) * 100);\n",
              "      percent.textContent = `${percentDone}% done`;\n",
              "\n",
              "    } while (position < fileData.byteLength);\n",
              "  }\n",
              "\n",
              "  // All done.\n",
              "  yield {\n",
              "    response: {\n",
              "      action: 'complete',\n",
              "    }\n",
              "  };\n",
              "}\n",
              "\n",
              "scope.google = scope.google || {};\n",
              "scope.google.colab = scope.google.colab || {};\n",
              "scope.google.colab._files = {\n",
              "  _uploadFiles,\n",
              "  _uploadFilesContinue,\n",
              "};\n",
              "})(self);\n",
              "</script> "
            ]
          },
          "metadata": {}
        },
        {
          "output_type": "stream",
          "name": "stdout",
          "text": [
            "Saving drybeans.csv to drybeans.csv\n"
          ]
        }
      ]
    },
    {
      "cell_type": "markdown",
      "source": [],
      "metadata": {
        "id": "Ac8MHqWOkyvb"
      }
    },
    {
      "cell_type": "code",
      "execution_count": 8,
      "metadata": {
        "collapsed": true,
        "id": "ZWAofGUswBGl"
      },
      "outputs": [],
      "source": [
        "file='drybeans.csv'\n",
        "df = spark.read.csv(file,header='true',inferSchema=True)"
      ]
    },
    {
      "cell_type": "code",
      "execution_count": 9,
      "metadata": {
        "colab": {
          "base_uri": "https://localhost:8080/"
        },
        "id": "YeX5KsGXwBGm",
        "outputId": "d73baacc-b3b0-434d-b662-805726690065"
      },
      "outputs": [
        {
          "output_type": "execute_result",
          "data": {
            "text/plain": [
              "['Area',\n",
              " 'Perimeter',\n",
              " 'MajorAxisLength',\n",
              " 'MinorAxisLength',\n",
              " 'AspectRation',\n",
              " 'Eccentricity',\n",
              " 'ConvexArea',\n",
              " 'EquivDiameter',\n",
              " 'Extent',\n",
              " 'Solidity',\n",
              " 'roundness',\n",
              " 'Compactness',\n",
              " 'ShapeFactor1',\n",
              " 'ShapeFactor2',\n",
              " 'ShapeFactor3',\n",
              " 'ShapeFactor4',\n",
              " 'Class']"
            ]
          },
          "metadata": {},
          "execution_count": 9
        }
      ],
      "source": [
        "df.columns"
      ]
    },
    {
      "cell_type": "code",
      "execution_count": 10,
      "metadata": {
        "colab": {
          "base_uri": "https://localhost:8080/"
        },
        "id": "-vjXANWwwBGm",
        "outputId": "9f1cef35-fbf5-4c7d-978a-d0f6f9047120"
      },
      "outputs": [
        {
          "output_type": "stream",
          "name": "stdout",
          "text": [
            "root\n",
            " |-- Area: integer (nullable = true)\n",
            " |-- Perimeter: double (nullable = true)\n",
            " |-- MajorAxisLength: double (nullable = true)\n",
            " |-- MinorAxisLength: double (nullable = true)\n",
            " |-- AspectRation: double (nullable = true)\n",
            " |-- Eccentricity: double (nullable = true)\n",
            " |-- ConvexArea: integer (nullable = true)\n",
            " |-- EquivDiameter: double (nullable = true)\n",
            " |-- Extent: double (nullable = true)\n",
            " |-- Solidity: double (nullable = true)\n",
            " |-- roundness: double (nullable = true)\n",
            " |-- Compactness: double (nullable = true)\n",
            " |-- ShapeFactor1: double (nullable = true)\n",
            " |-- ShapeFactor2: double (nullable = true)\n",
            " |-- ShapeFactor3: double (nullable = true)\n",
            " |-- ShapeFactor4: double (nullable = true)\n",
            " |-- Class: string (nullable = true)\n",
            "\n"
          ]
        }
      ],
      "source": [
        "df.printSchema()"
      ]
    },
    {
      "cell_type": "code",
      "execution_count": 11,
      "metadata": {
        "colab": {
          "base_uri": "https://localhost:8080/",
          "height": 614
        },
        "id": "3WM1mgbBwBGn",
        "outputId": "f8d2d6f8-5be0-4eaa-f6d0-3cb45297a7a1"
      },
      "outputs": [
        {
          "output_type": "execute_result",
          "data": {
            "text/plain": [
              "                     0                     1                      2  \\\n",
              "summary          count                  mean                 stddev   \n",
              "Area             13611    53048.284549261625      29324.09571688207   \n",
              "Perimeter        13611     855.2834585996654     214.28969589196151   \n",
              "MajorAxisLength  13611     320.1418673032194       85.6941859593335   \n",
              "MinorAxisLength  13611     202.2707140828817      44.97009129411471   \n",
              "AspectRation     13611    1.5832419790188144    0.24667845568580432   \n",
              "Eccentricity     13611     0.750894929372346    0.09200176320620888   \n",
              "ConvexArea       13611     53768.20020571596     29774.915817000012   \n",
              "EquivDiameter    13611    253.06421992490445      59.17712014871156   \n",
              "Extent           13611    0.7497327873564055   0.049086366843964224   \n",
              "Solidity         13611    0.9871428435655719      0.004660379169838   \n",
              "roundness        13611     0.873281831305413    0.05951988794941863   \n",
              "Compactness      13611    0.7998636818695875    0.06171346311682412   \n",
              "ShapeFactor1     13611  0.006563608507383666  0.0011279982248070671   \n",
              "ShapeFactor2     13611  0.001715947338917041   5.958748528937661E-4   \n",
              "ShapeFactor3     13611    0.6435901812970417      0.098996150476599   \n",
              "ShapeFactor4     13611    0.9950633118301326   0.004366457746633824   \n",
              "Class            13611                  None                   None   \n",
              "\n",
              "                           3            4  \n",
              "summary                  min          max  \n",
              "Area                   20420       254616  \n",
              "Perimeter            524.736      1985.37  \n",
              "MajorAxisLength   183.601165  738.8601535  \n",
              "MinorAxisLength  122.5126535  460.1984968  \n",
              "AspectRation     1.024867596  2.430306447  \n",
              "Eccentricity     0.218951263  0.911422968  \n",
              "ConvexArea             20684       263261  \n",
              "EquivDiameter    161.2437642  569.3743583  \n",
              "Extent           0.555314717  0.866194641  \n",
              "Solidity         0.919246157    0.9946775  \n",
              "roundness        0.489618256    0.9906854  \n",
              "Compactness      0.640576759  0.987302969  \n",
              "ShapeFactor1     0.002778013  0.010451169  \n",
              "ShapeFactor2      5.64169E-4  0.003664972  \n",
              "ShapeFactor3     0.410338584  0.974767153  \n",
              "ShapeFactor4     0.947687403   0.99973253  \n",
              "Class               BARBUNYA         SIRA  "
            ],
            "text/html": [
              "\n",
              "  <div id=\"df-5ff81b29-46aa-4c98-9b2e-6b32c597a20c\" class=\"colab-df-container\">\n",
              "    <div>\n",
              "<style scoped>\n",
              "    .dataframe tbody tr th:only-of-type {\n",
              "        vertical-align: middle;\n",
              "    }\n",
              "\n",
              "    .dataframe tbody tr th {\n",
              "        vertical-align: top;\n",
              "    }\n",
              "\n",
              "    .dataframe thead th {\n",
              "        text-align: right;\n",
              "    }\n",
              "</style>\n",
              "<table border=\"1\" class=\"dataframe\">\n",
              "  <thead>\n",
              "    <tr style=\"text-align: right;\">\n",
              "      <th></th>\n",
              "      <th>0</th>\n",
              "      <th>1</th>\n",
              "      <th>2</th>\n",
              "      <th>3</th>\n",
              "      <th>4</th>\n",
              "    </tr>\n",
              "  </thead>\n",
              "  <tbody>\n",
              "    <tr>\n",
              "      <th>summary</th>\n",
              "      <td>count</td>\n",
              "      <td>mean</td>\n",
              "      <td>stddev</td>\n",
              "      <td>min</td>\n",
              "      <td>max</td>\n",
              "    </tr>\n",
              "    <tr>\n",
              "      <th>Area</th>\n",
              "      <td>13611</td>\n",
              "      <td>53048.284549261625</td>\n",
              "      <td>29324.09571688207</td>\n",
              "      <td>20420</td>\n",
              "      <td>254616</td>\n",
              "    </tr>\n",
              "    <tr>\n",
              "      <th>Perimeter</th>\n",
              "      <td>13611</td>\n",
              "      <td>855.2834585996654</td>\n",
              "      <td>214.28969589196151</td>\n",
              "      <td>524.736</td>\n",
              "      <td>1985.37</td>\n",
              "    </tr>\n",
              "    <tr>\n",
              "      <th>MajorAxisLength</th>\n",
              "      <td>13611</td>\n",
              "      <td>320.1418673032194</td>\n",
              "      <td>85.6941859593335</td>\n",
              "      <td>183.601165</td>\n",
              "      <td>738.8601535</td>\n",
              "    </tr>\n",
              "    <tr>\n",
              "      <th>MinorAxisLength</th>\n",
              "      <td>13611</td>\n",
              "      <td>202.2707140828817</td>\n",
              "      <td>44.97009129411471</td>\n",
              "      <td>122.5126535</td>\n",
              "      <td>460.1984968</td>\n",
              "    </tr>\n",
              "    <tr>\n",
              "      <th>AspectRation</th>\n",
              "      <td>13611</td>\n",
              "      <td>1.5832419790188144</td>\n",
              "      <td>0.24667845568580432</td>\n",
              "      <td>1.024867596</td>\n",
              "      <td>2.430306447</td>\n",
              "    </tr>\n",
              "    <tr>\n",
              "      <th>Eccentricity</th>\n",
              "      <td>13611</td>\n",
              "      <td>0.750894929372346</td>\n",
              "      <td>0.09200176320620888</td>\n",
              "      <td>0.218951263</td>\n",
              "      <td>0.911422968</td>\n",
              "    </tr>\n",
              "    <tr>\n",
              "      <th>ConvexArea</th>\n",
              "      <td>13611</td>\n",
              "      <td>53768.20020571596</td>\n",
              "      <td>29774.915817000012</td>\n",
              "      <td>20684</td>\n",
              "      <td>263261</td>\n",
              "    </tr>\n",
              "    <tr>\n",
              "      <th>EquivDiameter</th>\n",
              "      <td>13611</td>\n",
              "      <td>253.06421992490445</td>\n",
              "      <td>59.17712014871156</td>\n",
              "      <td>161.2437642</td>\n",
              "      <td>569.3743583</td>\n",
              "    </tr>\n",
              "    <tr>\n",
              "      <th>Extent</th>\n",
              "      <td>13611</td>\n",
              "      <td>0.7497327873564055</td>\n",
              "      <td>0.049086366843964224</td>\n",
              "      <td>0.555314717</td>\n",
              "      <td>0.866194641</td>\n",
              "    </tr>\n",
              "    <tr>\n",
              "      <th>Solidity</th>\n",
              "      <td>13611</td>\n",
              "      <td>0.9871428435655719</td>\n",
              "      <td>0.004660379169838</td>\n",
              "      <td>0.919246157</td>\n",
              "      <td>0.9946775</td>\n",
              "    </tr>\n",
              "    <tr>\n",
              "      <th>roundness</th>\n",
              "      <td>13611</td>\n",
              "      <td>0.873281831305413</td>\n",
              "      <td>0.05951988794941863</td>\n",
              "      <td>0.489618256</td>\n",
              "      <td>0.9906854</td>\n",
              "    </tr>\n",
              "    <tr>\n",
              "      <th>Compactness</th>\n",
              "      <td>13611</td>\n",
              "      <td>0.7998636818695875</td>\n",
              "      <td>0.06171346311682412</td>\n",
              "      <td>0.640576759</td>\n",
              "      <td>0.987302969</td>\n",
              "    </tr>\n",
              "    <tr>\n",
              "      <th>ShapeFactor1</th>\n",
              "      <td>13611</td>\n",
              "      <td>0.006563608507383666</td>\n",
              "      <td>0.0011279982248070671</td>\n",
              "      <td>0.002778013</td>\n",
              "      <td>0.010451169</td>\n",
              "    </tr>\n",
              "    <tr>\n",
              "      <th>ShapeFactor2</th>\n",
              "      <td>13611</td>\n",
              "      <td>0.001715947338917041</td>\n",
              "      <td>5.958748528937661E-4</td>\n",
              "      <td>5.64169E-4</td>\n",
              "      <td>0.003664972</td>\n",
              "    </tr>\n",
              "    <tr>\n",
              "      <th>ShapeFactor3</th>\n",
              "      <td>13611</td>\n",
              "      <td>0.6435901812970417</td>\n",
              "      <td>0.098996150476599</td>\n",
              "      <td>0.410338584</td>\n",
              "      <td>0.974767153</td>\n",
              "    </tr>\n",
              "    <tr>\n",
              "      <th>ShapeFactor4</th>\n",
              "      <td>13611</td>\n",
              "      <td>0.9950633118301326</td>\n",
              "      <td>0.004366457746633824</td>\n",
              "      <td>0.947687403</td>\n",
              "      <td>0.99973253</td>\n",
              "    </tr>\n",
              "    <tr>\n",
              "      <th>Class</th>\n",
              "      <td>13611</td>\n",
              "      <td>None</td>\n",
              "      <td>None</td>\n",
              "      <td>BARBUNYA</td>\n",
              "      <td>SIRA</td>\n",
              "    </tr>\n",
              "  </tbody>\n",
              "</table>\n",
              "</div>\n",
              "    <div class=\"colab-df-buttons\">\n",
              "\n",
              "  <div class=\"colab-df-container\">\n",
              "    <button class=\"colab-df-convert\" onclick=\"convertToInteractive('df-5ff81b29-46aa-4c98-9b2e-6b32c597a20c')\"\n",
              "            title=\"Convert this dataframe to an interactive table.\"\n",
              "            style=\"display:none;\">\n",
              "\n",
              "  <svg xmlns=\"http://www.w3.org/2000/svg\" height=\"24px\" viewBox=\"0 -960 960 960\">\n",
              "    <path d=\"M120-120v-720h720v720H120Zm60-500h600v-160H180v160Zm220 220h160v-160H400v160Zm0 220h160v-160H400v160ZM180-400h160v-160H180v160Zm440 0h160v-160H620v160ZM180-180h160v-160H180v160Zm440 0h160v-160H620v160Z\"/>\n",
              "  </svg>\n",
              "    </button>\n",
              "\n",
              "  <style>\n",
              "    .colab-df-container {\n",
              "      display:flex;\n",
              "      gap: 12px;\n",
              "    }\n",
              "\n",
              "    .colab-df-convert {\n",
              "      background-color: #E8F0FE;\n",
              "      border: none;\n",
              "      border-radius: 50%;\n",
              "      cursor: pointer;\n",
              "      display: none;\n",
              "      fill: #1967D2;\n",
              "      height: 32px;\n",
              "      padding: 0 0 0 0;\n",
              "      width: 32px;\n",
              "    }\n",
              "\n",
              "    .colab-df-convert:hover {\n",
              "      background-color: #E2EBFA;\n",
              "      box-shadow: 0px 1px 2px rgba(60, 64, 67, 0.3), 0px 1px 3px 1px rgba(60, 64, 67, 0.15);\n",
              "      fill: #174EA6;\n",
              "    }\n",
              "\n",
              "    .colab-df-buttons div {\n",
              "      margin-bottom: 4px;\n",
              "    }\n",
              "\n",
              "    [theme=dark] .colab-df-convert {\n",
              "      background-color: #3B4455;\n",
              "      fill: #D2E3FC;\n",
              "    }\n",
              "\n",
              "    [theme=dark] .colab-df-convert:hover {\n",
              "      background-color: #434B5C;\n",
              "      box-shadow: 0px 1px 3px 1px rgba(0, 0, 0, 0.15);\n",
              "      filter: drop-shadow(0px 1px 2px rgba(0, 0, 0, 0.3));\n",
              "      fill: #FFFFFF;\n",
              "    }\n",
              "  </style>\n",
              "\n",
              "    <script>\n",
              "      const buttonEl =\n",
              "        document.querySelector('#df-5ff81b29-46aa-4c98-9b2e-6b32c597a20c button.colab-df-convert');\n",
              "      buttonEl.style.display =\n",
              "        google.colab.kernel.accessAllowed ? 'block' : 'none';\n",
              "\n",
              "      async function convertToInteractive(key) {\n",
              "        const element = document.querySelector('#df-5ff81b29-46aa-4c98-9b2e-6b32c597a20c');\n",
              "        const dataTable =\n",
              "          await google.colab.kernel.invokeFunction('convertToInteractive',\n",
              "                                                    [key], {});\n",
              "        if (!dataTable) return;\n",
              "\n",
              "        const docLinkHtml = 'Like what you see? Visit the ' +\n",
              "          '<a target=\"_blank\" href=https://colab.research.google.com/notebooks/data_table.ipynb>data table notebook</a>'\n",
              "          + ' to learn more about interactive tables.';\n",
              "        element.innerHTML = '';\n",
              "        dataTable['output_type'] = 'display_data';\n",
              "        await google.colab.output.renderOutput(dataTable, element);\n",
              "        const docLink = document.createElement('div');\n",
              "        docLink.innerHTML = docLinkHtml;\n",
              "        element.appendChild(docLink);\n",
              "      }\n",
              "    </script>\n",
              "  </div>\n",
              "\n",
              "\n",
              "<div id=\"df-df402b9a-d5ba-42eb-ae97-297dbe53e4db\">\n",
              "  <button class=\"colab-df-quickchart\" onclick=\"quickchart('df-df402b9a-d5ba-42eb-ae97-297dbe53e4db')\"\n",
              "            title=\"Suggest charts\"\n",
              "            style=\"display:none;\">\n",
              "\n",
              "<svg xmlns=\"http://www.w3.org/2000/svg\" height=\"24px\"viewBox=\"0 0 24 24\"\n",
              "     width=\"24px\">\n",
              "    <g>\n",
              "        <path d=\"M19 3H5c-1.1 0-2 .9-2 2v14c0 1.1.9 2 2 2h14c1.1 0 2-.9 2-2V5c0-1.1-.9-2-2-2zM9 17H7v-7h2v7zm4 0h-2V7h2v10zm4 0h-2v-4h2v4z\"/>\n",
              "    </g>\n",
              "</svg>\n",
              "  </button>\n",
              "\n",
              "<style>\n",
              "  .colab-df-quickchart {\n",
              "      --bg-color: #E8F0FE;\n",
              "      --fill-color: #1967D2;\n",
              "      --hover-bg-color: #E2EBFA;\n",
              "      --hover-fill-color: #174EA6;\n",
              "      --disabled-fill-color: #AAA;\n",
              "      --disabled-bg-color: #DDD;\n",
              "  }\n",
              "\n",
              "  [theme=dark] .colab-df-quickchart {\n",
              "      --bg-color: #3B4455;\n",
              "      --fill-color: #D2E3FC;\n",
              "      --hover-bg-color: #434B5C;\n",
              "      --hover-fill-color: #FFFFFF;\n",
              "      --disabled-bg-color: #3B4455;\n",
              "      --disabled-fill-color: #666;\n",
              "  }\n",
              "\n",
              "  .colab-df-quickchart {\n",
              "    background-color: var(--bg-color);\n",
              "    border: none;\n",
              "    border-radius: 50%;\n",
              "    cursor: pointer;\n",
              "    display: none;\n",
              "    fill: var(--fill-color);\n",
              "    height: 32px;\n",
              "    padding: 0;\n",
              "    width: 32px;\n",
              "  }\n",
              "\n",
              "  .colab-df-quickchart:hover {\n",
              "    background-color: var(--hover-bg-color);\n",
              "    box-shadow: 0 1px 2px rgba(60, 64, 67, 0.3), 0 1px 3px 1px rgba(60, 64, 67, 0.15);\n",
              "    fill: var(--button-hover-fill-color);\n",
              "  }\n",
              "\n",
              "  .colab-df-quickchart-complete:disabled,\n",
              "  .colab-df-quickchart-complete:disabled:hover {\n",
              "    background-color: var(--disabled-bg-color);\n",
              "    fill: var(--disabled-fill-color);\n",
              "    box-shadow: none;\n",
              "  }\n",
              "\n",
              "  .colab-df-spinner {\n",
              "    border: 2px solid var(--fill-color);\n",
              "    border-color: transparent;\n",
              "    border-bottom-color: var(--fill-color);\n",
              "    animation:\n",
              "      spin 1s steps(1) infinite;\n",
              "  }\n",
              "\n",
              "  @keyframes spin {\n",
              "    0% {\n",
              "      border-color: transparent;\n",
              "      border-bottom-color: var(--fill-color);\n",
              "      border-left-color: var(--fill-color);\n",
              "    }\n",
              "    20% {\n",
              "      border-color: transparent;\n",
              "      border-left-color: var(--fill-color);\n",
              "      border-top-color: var(--fill-color);\n",
              "    }\n",
              "    30% {\n",
              "      border-color: transparent;\n",
              "      border-left-color: var(--fill-color);\n",
              "      border-top-color: var(--fill-color);\n",
              "      border-right-color: var(--fill-color);\n",
              "    }\n",
              "    40% {\n",
              "      border-color: transparent;\n",
              "      border-right-color: var(--fill-color);\n",
              "      border-top-color: var(--fill-color);\n",
              "    }\n",
              "    60% {\n",
              "      border-color: transparent;\n",
              "      border-right-color: var(--fill-color);\n",
              "    }\n",
              "    80% {\n",
              "      border-color: transparent;\n",
              "      border-right-color: var(--fill-color);\n",
              "      border-bottom-color: var(--fill-color);\n",
              "    }\n",
              "    90% {\n",
              "      border-color: transparent;\n",
              "      border-bottom-color: var(--fill-color);\n",
              "    }\n",
              "  }\n",
              "</style>\n",
              "\n",
              "  <script>\n",
              "    async function quickchart(key) {\n",
              "      const quickchartButtonEl =\n",
              "        document.querySelector('#' + key + ' button');\n",
              "      quickchartButtonEl.disabled = true;  // To prevent multiple clicks.\n",
              "      quickchartButtonEl.classList.add('colab-df-spinner');\n",
              "      try {\n",
              "        const charts = await google.colab.kernel.invokeFunction(\n",
              "            'suggestCharts', [key], {});\n",
              "      } catch (error) {\n",
              "        console.error('Error during call to suggestCharts:', error);\n",
              "      }\n",
              "      quickchartButtonEl.classList.remove('colab-df-spinner');\n",
              "      quickchartButtonEl.classList.add('colab-df-quickchart-complete');\n",
              "    }\n",
              "    (() => {\n",
              "      let quickchartButtonEl =\n",
              "        document.querySelector('#df-df402b9a-d5ba-42eb-ae97-297dbe53e4db button');\n",
              "      quickchartButtonEl.style.display =\n",
              "        google.colab.kernel.accessAllowed ? 'block' : 'none';\n",
              "    })();\n",
              "  </script>\n",
              "</div>\n",
              "\n",
              "    </div>\n",
              "  </div>\n"
            ],
            "application/vnd.google.colaboratory.intrinsic+json": {
              "type": "dataframe",
              "summary": "{\n  \"name\": \"df\",\n  \"rows\": 18,\n  \"fields\": [\n    {\n      \"column\": 0,\n      \"properties\": {\n        \"dtype\": \"category\",\n        \"num_unique_values\": 2,\n        \"samples\": [\n          \"13611\",\n          \"count\"\n        ],\n        \"semantic_type\": \"\",\n        \"description\": \"\"\n      }\n    },\n    {\n      \"column\": 1,\n      \"properties\": {\n        \"dtype\": \"string\",\n        \"num_unique_values\": 17,\n        \"samples\": [\n          \"mean\",\n          \"53048.284549261625\"\n        ],\n        \"semantic_type\": \"\",\n        \"description\": \"\"\n      }\n    },\n    {\n      \"column\": 2,\n      \"properties\": {\n        \"dtype\": \"string\",\n        \"num_unique_values\": 17,\n        \"samples\": [\n          \"stddev\",\n          \"29324.09571688207\"\n        ],\n        \"semantic_type\": \"\",\n        \"description\": \"\"\n      }\n    },\n    {\n      \"column\": 3,\n      \"properties\": {\n        \"dtype\": \"string\",\n        \"num_unique_values\": 18,\n        \"samples\": [\n          \"min\",\n          \"20420\"\n        ],\n        \"semantic_type\": \"\",\n        \"description\": \"\"\n      }\n    },\n    {\n      \"column\": 4,\n      \"properties\": {\n        \"dtype\": \"string\",\n        \"num_unique_values\": 18,\n        \"samples\": [\n          \"max\",\n          \"254616\"\n        ],\n        \"semantic_type\": \"\",\n        \"description\": \"\"\n      }\n    }\n  ]\n}"
            }
          },
          "metadata": {},
          "execution_count": 11
        }
      ],
      "source": [
        "df.describe().toPandas().transpose()"
      ]
    },
    {
      "cell_type": "code",
      "execution_count": null,
      "metadata": {
        "colab": {
          "base_uri": "https://localhost:8080/"
        },
        "id": "mf3GVJenwBGn",
        "outputId": "60e5f721-1061-47d3-8cc3-c767eee76f8e"
      },
      "outputs": [
        {
          "output_type": "stream",
          "name": "stdout",
          "text": [
            "+-----+---------+-----------+-----------+-----------+-----+\n",
            "| Area|Perimeter|   Solidity|  roundness|Compactness|Class|\n",
            "+-----+---------+-----------+-----------+-----------+-----+\n",
            "|28395|  610.291|0.988855999|0.958027126|0.913357755|SEKER|\n",
            "|28734|  638.018|0.984985603|0.887033637|0.953860842|SEKER|\n",
            "|29380|   624.11|0.989558774|0.947849473|0.908774239|SEKER|\n",
            "|30008|  645.884|0.976695743|0.903936374|0.928328835|SEKER|\n",
            "|30140|  620.134| 0.99089325|0.984877069|0.970515523|SEKER|\n",
            "+-----+---------+-----------+-----------+-----------+-----+\n",
            "only showing top 5 rows\n",
            "\n"
          ]
        }
      ],
      "source": [
        "df.select([\"Area\",\"Perimeter\",\"Solidity\",\"roundness\",\"Compactness\",\"Class\"]).show(5)"
      ]
    },
    {
      "cell_type": "code",
      "execution_count": null,
      "metadata": {
        "colab": {
          "base_uri": "https://localhost:8080/"
        },
        "id": "lfonE2o8wBGo",
        "outputId": "16173f27-004d-44ca-e403-3a00b5eea9e6"
      },
      "outputs": [
        {
          "output_type": "stream",
          "name": "stdout",
          "text": [
            "+--------+-----+\n",
            "|   Class|count|\n",
            "+--------+-----+\n",
            "|  BOMBAY|  522|\n",
            "|BARBUNYA| 1322|\n",
            "|    CALI| 1630|\n",
            "|   HOROZ| 1928|\n",
            "|   SEKER| 2027|\n",
            "|    SIRA| 2636|\n",
            "|DERMASON| 3546|\n",
            "+--------+-----+\n",
            "\n"
          ]
        }
      ],
      "source": [
        "df.groupBy('Class').count().orderBy('count').show()"
      ]
    },
    {
      "cell_type": "code",
      "execution_count": 12,
      "metadata": {
        "collapsed": true,
        "id": "5-RpzxWlwBGo"
      },
      "outputs": [],
      "source": [
        "# Convert Class column from string to numerical values\n",
        "\n"
      ]
    },
    {
      "cell_type": "markdown",
      "source": [
        "#  Classification"
      ],
      "metadata": {
        "id": "HmX1U1HX2i3n"
      }
    },
    {
      "cell_type": "code",
      "source": [
        "from pyspark.sql import DataFrameNaFunctions\n",
        "from pyspark.ml.feature import StringIndexer\n",
        "from pyspark.ml.feature import VectorAssembler, StringIndexer, VectorIndexer\n",
        "from pyspark.ml.classification import LogisticRegression,DecisionTreeClassifier\n",
        "from pyspark.ml.evaluation import BinaryClassificationEvaluator"
      ],
      "metadata": {
        "id": "ElV2ZP113G1R"
      },
      "execution_count": 68,
      "outputs": []
    },
    {
      "cell_type": "code",
      "source": [
        "featureColumns =df.columns[:-2]"
      ],
      "metadata": {
        "id": "ktPd8SpG76hy"
      },
      "execution_count": 14,
      "outputs": []
    },
    {
      "cell_type": "code",
      "source": [
        "indexer = StringIndexer(inputCol=\"Class\", outputCol=\"label\")\n",
        "assembler = VectorAssembler(inputCols=featureColumns, outputCol=\"features\")\n"
      ],
      "metadata": {
        "id": "FEm523ct2sab"
      },
      "execution_count": 19,
      "outputs": []
    },
    {
      "cell_type": "code",
      "source": [
        "from pyspark.ml.classification import LogisticRegression\n",
        "lr = LogisticRegression(featuresCol=\"features\", labelCol=\"label\")\n"
      ],
      "metadata": {
        "id": "BNpJj2Ko2wmQ"
      },
      "execution_count": 20,
      "outputs": []
    },
    {
      "cell_type": "code",
      "source": [
        "from pyspark.ml import Pipeline\n",
        "\n",
        "pipeline = Pipeline(stages=[indexer,assembler,lr])"
      ],
      "metadata": {
        "id": "HIIzZ_kH2yU7"
      },
      "execution_count": 22,
      "outputs": []
    },
    {
      "cell_type": "code",
      "source": [
        "from pyspark.ml.tuning import CrossValidator, ParamGridBuilder\n",
        "\n",
        "paramGrid = ParamGridBuilder() \\\n",
        "    .addGrid(lr.fitIntercept, [False, True]) \\\n",
        "    .addGrid(lr.maxIter, [5, 10,20]) \\\n",
        "    .build()"
      ],
      "metadata": {
        "id": "wZObekd0d-zW"
      },
      "execution_count": 78,
      "outputs": []
    },
    {
      "cell_type": "code",
      "source": [
        "from pyspark.ml.evaluation import MulticlassClassificationEvaluator\n",
        "crossval = CrossValidator(estimator=pipeline,\n",
        "                          estimatorParamMaps=paramGrid,\n",
        "                          evaluator=MulticlassClassificationEvaluator(),\n",
        "                          numFolds=3)  # use 3+ folds in practice\n",
        "\n",
        "# Run cross-validation, and choose the best set of parameters.\n",
        "cvModel = crossval.fit(df)"
      ],
      "metadata": {
        "id": "8M1eyXTteD1O"
      },
      "execution_count": 79,
      "outputs": []
    },
    {
      "cell_type": "code",
      "source": [
        "cvModel.avgMetrics\n"
      ],
      "metadata": {
        "colab": {
          "base_uri": "https://localhost:8080/"
        },
        "id": "J4UxIoMJiTQv",
        "outputId": "fad09e99-7543-4fc5-f422-2a707c2ba7b5"
      },
      "execution_count": 80,
      "outputs": [
        {
          "output_type": "execute_result",
          "data": {
            "text/plain": [
              "[0.10769577809569286,\n",
              " 0.11021231577854324,\n",
              " 0.8410523912546809,\n",
              " 0.8587447567058512,\n",
              " 0.913468123684896,\n",
              " 0.914367917756331]"
            ]
          },
          "metadata": {},
          "execution_count": 80
        }
      ]
    },
    {
      "cell_type": "code",
      "source": [
        "\n",
        "(trainin, testData) = df.randomSplit([0.8,0.2], seed = 13234 )"
      ],
      "metadata": {
        "id": "7maTakFpek1N"
      },
      "execution_count": 114,
      "outputs": []
    },
    {
      "cell_type": "code",
      "source": [
        "predictions = cvModel.transform(testData)"
      ],
      "metadata": {
        "id": "QqQTRppW2zo8"
      },
      "execution_count": 115,
      "outputs": []
    },
    {
      "cell_type": "code",
      "source": [
        "predictions.show()"
      ],
      "metadata": {
        "colab": {
          "base_uri": "https://localhost:8080/"
        },
        "id": "TXp0ksB0TQOY",
        "outputId": "4a0f534e-b24d-4bc1-c372-e8f64419cd3a"
      },
      "execution_count": 116,
      "outputs": [
        {
          "output_type": "stream",
          "name": "stdout",
          "text": [
            "+-----+---------+---------------+---------------+------------+------------+----------+-------------+-----------+-----------+-----------+-----------+------------+------------+------------+------------+--------+-----+--------------------+--------------------+--------------------+----------+\n",
            "| Area|Perimeter|MajorAxisLength|MinorAxisLength|AspectRation|Eccentricity|ConvexArea|EquivDiameter|     Extent|   Solidity|  roundness|Compactness|ShapeFactor1|ShapeFactor2|ShapeFactor3|ShapeFactor4|   Class|label|            features|       rawPrediction|         probability|prediction|\n",
            "+-----+---------+---------------+---------------+------------+------------+----------+-------------+-----------+-----------+-----------+-----------+------------+------------+------------+------------+--------+-----+--------------------+--------------------+--------------------+----------+\n",
            "|21397|  535.436|    192.5302973|    141.6521869| 1.359176314| 0.677264398|     21731|  165.0560709|0.772650128|0.984630252|0.937880736|0.857299205| 0.008998004| 0.002998166| 0.734961927| 0.998942844|DERMASON|  0.0|[21397.0,535.436,...|[24.3548276930700...|[0.99999978604877...|       0.0|\n",
            "|21706|  546.187|    199.3233899|    138.8673301| 1.435351208| 0.717368823|     22006|  166.2436091|0.791034985|0.986367354|0.914338368|0.834039644| 0.009182871| 0.002740975| 0.695622127|  0.99846206|DERMASON|  0.0|[21706.0,546.187,...|[23.8258393081131...|[0.99999965576395...|       0.0|\n",
            "|21830|  543.295|    201.3477434|    138.5355551|  1.45340121| 0.725671568|     22029|  166.7177833|0.731029402|0.990966453|0.929377563|0.828009197| 0.009223442|  0.00267432|  0.68559923| 0.996450751|DERMASON|  0.0|[21830.0,543.295,...|[24.6065439278946...|[0.99999981773920...|       0.0|\n",
            "|21961|  551.696|    204.7763134|    136.7099579|  1.49788879| 0.744514487|     22267|  167.2172648|0.780419332|0.986257691|0.906697265|0.816584995| 0.009324544| 0.002557484| 0.666811053| 0.998808802|DERMASON|  0.0|[21961.0,551.696,...|[23.8494655004945...|[0.99999950918119...|       0.0|\n",
            "|22158|  542.436|    198.7751249|    142.1554953|  1.39829364| 0.698963474|     22424|  167.9655972|0.743656867| 0.98813771|0.946331753|0.845003102| 0.008970806| 0.002821269| 0.714030242| 0.998423947|DERMASON|  0.0|[22158.0,542.436,...|[24.0218520546913...|[0.99999974983603...|       0.0|\n",
            "|22162|   568.07|      219.33739|    129.5762069| 1.692728899| 0.806845832|     22502|  167.9807572|0.727601037|0.984890232|0.863008564|0.765855549| 0.009897003|  0.00210025| 0.586534722| 0.992844273|DERMASON|  0.0|[22162.0,568.07,2...|[24.4082920599424...|[0.99999877504810...|       0.0|\n",
            "|22461|  544.584|    192.8013032|    148.5411365|  1.29796572| 0.637516899|     22699|  169.1101222| 0.77473096|0.989514957|0.951720002|0.877121261| 0.008583825| 0.003134001| 0.769341707| 0.998579162|DERMASON|  0.0|[22461.0,544.584,...|[22.7044814231854...|[0.99998874305469...|       0.0|\n",
            "|22687|  553.435|    204.6909196|    141.2405819| 1.449235884| 0.723791449|     22989|   169.958776|0.721734428|0.986863282|0.930794253| 0.83031908| 0.009022388| 0.002645339| 0.689429774| 0.999146368|DERMASON|  0.0|[22687.0,553.435,...|[23.4824999988647...|[0.99999953339581...|       0.0|\n",
            "|22721|    553.6|    201.1671865|    144.0509676| 1.396500072| 0.698022458|     23016|  170.0860832|0.776706663|0.987182829|0.931633599|0.845496157|   0.0088538| 0.002790975| 0.714863752| 0.998307281|DERMASON|  0.0|[22721.0,553.6,20...|[22.6440671849201...|[0.99999914424307...|       0.0|\n",
            "|22777|  563.861|     204.878906|    141.8015588| 1.444828306| 0.721778845|     23071|  170.2955581|0.772049353|0.987256729| 0.90024822|0.831201032| 0.008994991| 0.002648529| 0.690895155| 0.998224877|DERMASON|  0.0|[22777.0,563.861,...|[22.2233773113037...|[0.99999835859942...|       0.0|\n",
            "|22931|  559.526|     207.806204|    140.8498712|  1.47537376| 0.735251534|     23207|    170.87029|0.806861365|0.988107037|0.920433282|0.822257886| 0.009062239| 0.002555333| 0.676108031| 0.997512047|DERMASON|  0.0|[22931.0,559.526,...|[22.4979797414059...|[0.99999860828675...|       0.0|\n",
            "|23369|  567.724|    215.8616876|    138.1170076| 1.562889982| 0.768507896|     23658|   172.494449| 0.79131112|0.987784259|  0.9111198|0.799097102| 0.009237096| 0.002323344| 0.638556178| 0.997993054|DERMASON|  0.0|[23369.0,567.724,...|[22.4813299872641...|[0.99999771710537...|       0.0|\n",
            "|23393|  566.451|    208.3896394|    143.7053079| 1.450117901| 0.724191329|     23702|  172.5830023|0.715119834|0.986963125|  0.9161595|0.828174581| 0.008908205| 0.002584982| 0.685873136| 0.994596913|DERMASON|  0.0|[23393.0,566.451,...|[22.2479949721322...|[0.99999845795825...|       0.0|\n",
            "|23500|  570.486|    209.9116344|     143.070924| 1.467185843| 0.731746479|     23931|  172.9772508|0.734834271|0.981989888|0.907376953|0.824047944|  0.00893241| 0.002540729| 0.679055015| 0.996299905|DERMASON|  0.0|[23500.0,570.486,...|[21.8701174915775...|[0.99999759213698...|       0.0|\n",
            "|23532|  567.875|    209.9588895|    143.0493175| 1.467737793| 0.731985132|     23855|  173.0949825|0.709864253|0.986459862|0.916987053|0.824423214| 0.008922271| 0.002542471| 0.679673636| 0.997582682|DERMASON|  0.0|[23532.0,567.875,...|[22.2608070269402...|[0.99999837251692...|       0.0|\n",
            "|23553|   577.69|    216.3088938|    138.9570923| 1.556659615| 0.766368516|     23850|  173.1722004|0.695106835| 0.98754717|0.886883135|0.800578272| 0.009183921| 0.002327143| 0.640925569|  0.99770295|DERMASON|  0.0|[23553.0,577.69,2...|[22.2982403044931...|[0.99999719001404...|       0.0|\n",
            "|23562|  612.084|    246.2504516|    122.5126535| 2.010000148| 0.867456864|     23959|  173.2052833|0.698257468|0.983430026|0.790314521|0.703370419| 0.010451169| 0.001577906| 0.494729946| 0.994407265|DERMASON|  0.0|[23562.0,612.084,...|[23.2685092451461...|[0.99001072255781...|       0.0|\n",
            "|23590|  561.266|     199.563129|    150.6856359| 1.324367302| 0.655635504|     23907|  173.3081673|0.750270339|0.986740285|0.941023211|0.868437813| 0.008459649| 0.002968158| 0.754184235|  0.99881694|DERMASON|  0.0|[23590.0,561.266,...|[21.3373009908908...|[0.99998882575181...|       0.0|\n",
            "|23662|  575.093|    207.9470169|    145.1253317|  1.43287884| 0.716199395|     24014|  173.5724463|0.717813372|0.985341884|0.899052703|0.834695534| 0.008788227| 0.002631439| 0.696716634| 0.998310522|DERMASON|  0.0|[23662.0,575.093,...|[21.3221179780632...|[0.99999653856737...|       0.0|\n",
            "|23684|  571.022|      207.23373|    145.8234678|  1.42112743| 0.710530241|     23967|   173.653118|0.768162948|0.988192097|0.912765538|0.837957788| 0.008749946| 0.002661177| 0.702173254| 0.997877672|DERMASON|  0.0|[23684.0,571.022,...|[21.1799280995368...|[0.99999636054886...|       0.0|\n",
            "+-----+---------+---------------+---------------+------------+------------+----------+-------------+-----------+-----------+-----------+-----------+------------+------------+------------+------------+--------+-----+--------------------+--------------------+--------------------+----------+\n",
            "only showing top 20 rows\n",
            "\n"
          ]
        }
      ]
    },
    {
      "cell_type": "code",
      "source": [
        "predictions.select(\"probability\",\"prediction\", \"label\").show(truncate=False)"
      ],
      "metadata": {
        "id": "5W4Z7VUsEAr8",
        "colab": {
          "base_uri": "https://localhost:8080/"
        },
        "outputId": "ce04ed7e-1d10-477d-cd08-76503f822f5b"
      },
      "execution_count": 117,
      "outputs": [
        {
          "output_type": "stream",
          "name": "stdout",
          "text": [
            "+----------------------------------------------------------------------------------------------------------------------------------------------------------+----------+-----+\n",
            "|probability                                                                                                                                               |prediction|label|\n",
            "+----------------------------------------------------------------------------------------------------------------------------------------------------------+----------+-----+\n",
            "|[0.999999786048775,1.0073424145280991E-7,1.1321489990696637E-7,2.0830094026751393E-12,6.254532123841183E-18,6.153731567601947E-16,9.970643899141754E-17]  |0.0       |0.0  |\n",
            "|[0.9999996557639533,3.279393242509332E-7,1.6231598495319047E-8,6.512276531874529E-11,1.788571766857678E-17,1.1320598855284279E-15,5.268924072760496E-17]  |0.0       |0.0  |\n",
            "|[0.9999998177392065,1.6998937232110413E-7,1.2237036658045205E-8,3.438424810467422E-11,6.671245947972873E-18,2.1247358985455892E-16,1.5439254568740402E-17]|0.0       |0.0  |\n",
            "|[0.9999995091811942,4.878265881129538E-7,2.3759152346974303E-9,6.163017372244006E-10,3.148708526266198E-17,5.785447712897577E-16,2.4087994549111627E-17]  |0.0       |0.0  |\n",
            "|[0.9999997498360349,1.8045843624564753E-7,6.96983519181639E-8,7.176521056073208E-12,2.03471010473129E-17,5.355455718916086E-16,9.534154038925602E-17]     |0.0       |0.0  |\n",
            "|[0.9999987750481091,8.155016785267891E-7,1.0478555975387361E-11,4.0943973391913014E-7,2.2210146660392424E-17,7.264886402715314E-17,1.110693909418404E-18] |0.0       |0.0  |\n",
            "|[0.9999887430546974,2.384287212323705E-7,1.1018516252580991E-5,3.083380999914805E-13,3.158735424713591E-17,1.8159963091229383E-14,2.0408759145831968E-15] |0.0       |0.0  |\n",
            "|[0.9999995333958197,4.446966993814915E-7,2.181560676297253E-8,9.187336946915827E-11,5.837140803138459E-17,8.858826844526989E-16,8.87483646035567E-17]     |0.0       |0.0  |\n",
            "|[0.9999991442430756,6.651712257239904E-7,1.9055890362633496E-7,2.6787467443646476E-11,1.2118576024941549E-16,6.9938939136462656E-15,5.030125241780684E-16]|0.0       |0.0  |\n",
            "|[0.9999983585994233,1.566492332509923E-6,7.457615243457939E-8,3.3207188035397315E-10,1.258385692710535E-16,1.9329787418408917E-14,2.9158392394923597E-16] |0.0       |0.0  |\n",
            "|[0.9999986082867547,1.3764588717074733E-6,1.4688940923894402E-8,5.654275710738707E-10,3.608318361804807E-16,4.402115739554564E-15,2.2164614070768879E-16] |0.0       |0.0  |\n",
            "|[0.999997717105374,2.2700779800277215E-6,1.2500903466224062E-9,1.1566553098762606E-8,8.373553806390364E-16,1.8346262600899056E-15,8.968660443902069E-17]  |0.0       |0.0  |\n",
            "|[0.9999984579582555,1.4732855367956606E-6,6.842247262785598E-8,3.337255659128548E-10,2.3165915465813806E-16,8.856092015227031E-15,3.3555141731639404E-16] |0.0       |0.0  |\n",
            "|[0.9999975921369881,2.383002644602545E-6,2.3400163096589735E-8,1.4601912066855536E-9,6.643126155404671E-16,1.1717582649688458E-14,5.146721242529562E-16]  |0.0       |0.0  |\n",
            "|[0.999998372516928,1.58763159200656E-6,3.9279249379559845E-8,5.722233022737279E-10,3.0811898413967076E-16,6.570315010458852E-15,2.9308465225196835E-16]   |0.0       |0.0  |\n",
            "|[0.9999971900140455,2.790956669894319E-6,4.662793185016961E-9,1.4366485687492604E-8,2.2648985441760395E-16,5.644487808551295E-15,6.816329115415384E-17]   |0.0       |0.0  |\n",
            "|[0.9900107225578143,4.989336113401749E-6,7.944556428147074E-14,0.009984288105992476,1.1344975994656606E-16,1.3729199819250151E-16,2.7942476325117035E-19] |0.0       |0.0  |\n",
            "|[0.9999888257518159,1.1037941175134052E-6,1.0070450139492746E-5,3.810887362610376E-12,3.7013836563774063E-16,1.0773347495754456E-13,8.046156700582743E-15]|0.0       |0.0  |\n",
            "|[0.9999965385673755,3.182903198911501E-6,2.780391788330123E-7,4.90166763209012E-10,4.0485452443205297E-16,7.828506563470332E-14,1.0994931123321958E-15]   |0.0       |0.0  |\n",
            "|[0.9999963605488689,3.2033522676039644E-6,4.358636005359281E-7,2.3516883133449465E-10,7.428504513843941E-16,9.17401379495621E-14,1.827735586721937E-15]   |0.0       |0.0  |\n",
            "+----------------------------------------------------------------------------------------------------------------------------------------------------------+----------+-----+\n",
            "only showing top 20 rows\n",
            "\n"
          ]
        }
      ]
    },
    {
      "cell_type": "code",
      "source": [
        "prediction_save=predictions.select(\"rawprediction\",\"probability\",\"prediction\", \"label\").show()"
      ],
      "metadata": {
        "id": "RBUeH1rD21JU",
        "colab": {
          "base_uri": "https://localhost:8080/"
        },
        "outputId": "5e26811b-041b-4157-cfb6-a1d342e84a8e"
      },
      "execution_count": 118,
      "outputs": [
        {
          "output_type": "stream",
          "name": "stdout",
          "text": [
            "+--------------------+--------------------+----------+-----+\n",
            "|       rawprediction|         probability|prediction|label|\n",
            "+--------------------+--------------------+----------+-----+\n",
            "|[24.3548276930700...|[0.99999978604877...|       0.0|  0.0|\n",
            "|[23.8258393081131...|[0.99999965576395...|       0.0|  0.0|\n",
            "|[24.6065439278946...|[0.99999981773920...|       0.0|  0.0|\n",
            "|[23.8494655004945...|[0.99999950918119...|       0.0|  0.0|\n",
            "|[24.0218520546913...|[0.99999974983603...|       0.0|  0.0|\n",
            "|[24.4082920599424...|[0.99999877504810...|       0.0|  0.0|\n",
            "|[22.7044814231854...|[0.99998874305469...|       0.0|  0.0|\n",
            "|[23.4824999988647...|[0.99999953339581...|       0.0|  0.0|\n",
            "|[22.6440671849201...|[0.99999914424307...|       0.0|  0.0|\n",
            "|[22.2233773113037...|[0.99999835859942...|       0.0|  0.0|\n",
            "|[22.4979797414059...|[0.99999860828675...|       0.0|  0.0|\n",
            "|[22.4813299872641...|[0.99999771710537...|       0.0|  0.0|\n",
            "|[22.2479949721322...|[0.99999845795825...|       0.0|  0.0|\n",
            "|[21.8701174915775...|[0.99999759213698...|       0.0|  0.0|\n",
            "|[22.2608070269402...|[0.99999837251692...|       0.0|  0.0|\n",
            "|[22.2982403044931...|[0.99999719001404...|       0.0|  0.0|\n",
            "|[23.2685092451461...|[0.99001072255781...|       0.0|  0.0|\n",
            "|[21.3373009908908...|[0.99998882575181...|       0.0|  0.0|\n",
            "|[21.3221179780632...|[0.99999653856737...|       0.0|  0.0|\n",
            "|[21.1799280995368...|[0.99999636054886...|       0.0|  0.0|\n",
            "+--------------------+--------------------+----------+-----+\n",
            "only showing top 20 rows\n",
            "\n"
          ]
        }
      ]
    },
    {
      "cell_type": "code",
      "source": [
        "predictions.select(\"prediction\", \"label\").write.save(path=\"predictions\",\n",
        "                                                     format=\"com.databricks.spark.csv\",\n",
        "                                                     header='true')"
      ],
      "metadata": {
        "id": "lb-NXq5BUN2p"
      },
      "execution_count": 119,
      "outputs": []
    },
    {
      "cell_type": "code",
      "source": [
        "\n",
        "76"
      ],
      "metadata": {
        "id": "dF8nU3AkVizJ"
      },
      "execution_count": 120,
      "outputs": []
    },
    {
      "cell_type": "markdown",
      "source": [
        "# Evaluations"
      ],
      "metadata": {
        "id": "FQd4thPrPJmx"
      }
    },
    {
      "cell_type": "code",
      "source": [
        "from pyspark.ml.evaluation import MulticlassClassificationEvaluator\n",
        "from pyspark.mllib.evaluation import MulticlassMetrics"
      ],
      "metadata": {
        "id": "yZvA8ltr8meX"
      },
      "execution_count": 111,
      "outputs": []
    },
    {
      "cell_type": "code",
      "source": [
        "def evaluate(result):\n",
        "    predictionAndLabels = result.select(\"prediction\", \"label\")\n",
        "    metrics = [\"f1\",\"precisionByLabel\",\"recallByLabel\",\"weightedPrecision\",\"weightedRecall\",\"accuracy\"]\n",
        "    for m in metrics:\n",
        "        evaluator = MulticlassClassificationEvaluator(metricName=m)\n",
        "        print(str(m) + \": \" + str(evaluator.evaluate(predictionAndLabels)))"
      ],
      "metadata": {
        "id": "LruJRrvWp2-u"
      },
      "execution_count": null,
      "outputs": []
    },
    {
      "cell_type": "code",
      "source": [
        "evaluate(predictions)"
      ],
      "metadata": {
        "id": "04ab1wtB8mMq",
        "colab": {
          "base_uri": "https://localhost:8080/"
        },
        "outputId": "c4328e0e-3295-43dd-a95a-6e47afa1ec24"
      },
      "execution_count": 121,
      "outputs": [
        {
          "output_type": "stream",
          "name": "stdout",
          "text": [
            "f1: 0.9209945149904254\n",
            "precisionByLabel: 0.925561797752809\n",
            "recallByLabel: 0.9052197802197802\n",
            "weightedPrecision: 0.9216211770958438\n",
            "weightedRecall: 0.9208711433756805\n",
            "accuracy: 0.9208711433756805\n"
          ]
        }
      ]
    },
    {
      "cell_type": "code",
      "source": [
        "# Evaluate model performance\n",
        "evaluator = MulticlassClassificationEvaluator(labelCol=\"label\", predictionCol=\"prediction\", metricName=\"accuracy\")\n",
        "accuracy = evaluator.evaluate(predictions)\n",
        "print(\"Accuracy =\", accuracy)\n"
      ],
      "metadata": {
        "id": "VPPyeqhG8vhX",
        "colab": {
          "base_uri": "https://localhost:8080/"
        },
        "outputId": "a7483191-a130-4ab2-9a3e-77691c943f13"
      },
      "execution_count": 122,
      "outputs": [
        {
          "output_type": "stream",
          "name": "stdout",
          "text": [
            "Accuracy = 0.9208711433756805\n"
          ]
        }
      ]
    },
    {
      "cell_type": "code",
      "source": [
        "prediction=predictions.select(\"prediction\", \"label\")"
      ],
      "metadata": {
        "id": "25gJpkf1rOvR"
      },
      "execution_count": 130,
      "outputs": []
    },
    {
      "cell_type": "markdown",
      "source": [],
      "metadata": {
        "id": "X3Tri7MRrPwz"
      }
    },
    {
      "cell_type": "code",
      "source": [
        "metrics = MulticlassMetrics(prediction.rdd.map(tuple))"
      ],
      "metadata": {
        "id": "wJSZKI908xWD",
        "colab": {
          "base_uri": "https://localhost:8080/"
        },
        "outputId": "f0724631-4b8f-4041-91d6-3b99c5d4da73"
      },
      "execution_count": 131,
      "outputs": [
        {
          "output_type": "stream",
          "name": "stderr",
          "text": [
            "/usr/local/lib/python3.10/dist-packages/pyspark/sql/context.py:158: FutureWarning: Deprecated in 3.0.0. Use SparkSession.builder.getOrCreate() instead.\n",
            "  warnings.warn(\n"
          ]
        }
      ]
    },
    {
      "cell_type": "code",
      "source": [
        "metrics.confusionMatrix().toArray().transpose()"
      ],
      "metadata": {
        "id": "EN0KiP658zPI",
        "colab": {
          "base_uri": "https://localhost:8080/"
        },
        "outputId": "8351f203-2773-4b68-e38c-5df830fbed76"
      },
      "execution_count": 132,
      "outputs": [
        {
          "output_type": "execute_result",
          "data": {
            "text/plain": [
              "array([[659.,  48.,   4.,   1.,   0.,   0.,   0.],\n",
              "       [ 61., 468.,  17.,   3.,   3.,   6.,   0.],\n",
              "       [  7.,   9., 394.,   0.,   0.,   1.,   0.],\n",
              "       [  1.,  12.,   0., 364.,   5.,   1.,   0.],\n",
              "       [  0.,   3.,   1.,   3., 313.,  20.,   0.],\n",
              "       [  0.,   0.,   5.,   0.,   7., 234.,   0.],\n",
              "       [  0.,   0.,   0.,   0.,   0.,   0., 105.]])"
            ]
          },
          "metadata": {},
          "execution_count": 132
        }
      ]
    },
    {
      "cell_type": "code",
      "source": [
        "sc.stop()"
      ],
      "metadata": {
        "id": "ZyXrF7Tu4514"
      },
      "execution_count": null,
      "outputs": []
    }
  ],
  "metadata": {
    "kernelspec": {
      "display_name": "Python 3",
      "language": "python",
      "name": "python3"
    },
    "language_info": {
      "codemirror_mode": {
        "name": "ipython",
        "version": 3
      },
      "file_extension": ".py",
      "mimetype": "text/x-python",
      "name": "python",
      "nbconvert_exporter": "python",
      "pygments_lexer": "ipython3",
      "version": "3.5.1"
    },
    "colab": {
      "provenance": [],
      "toc_visible": true
    }
  },
  "nbformat": 4,
  "nbformat_minor": 0
}