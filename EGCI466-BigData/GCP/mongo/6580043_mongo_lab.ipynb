{
  "nbformat": 4,
  "nbformat_minor": 0,
  "metadata": {
    "colab": {
      "provenance": []
    },
    "kernelspec": {
      "name": "python3",
      "display_name": "Python 3"
    },
    "language_info": {
      "name": "python"
    }
  },
  "cells": [
    {
      "cell_type": "code",
      "execution_count": null,
      "metadata": {
        "id": "le0ZydTMBwqo"
      },
      "outputs": [],
      "source": [
        "!curl ipecho.net/plain\n",
        "# Instaling PyMongo, this is the interface to connect to MongoDB with Python\n",
        "! python -m pip install \"pymongo[srv]\"==3.11"
      ]
    },
    {
      "cell_type": "code",
      "source": [
        "! pip  install pymongo[srv,tls]\n",
        "! pip install dnspython\n"
      ],
      "metadata": {
        "id": "VWmSF06dCCkF"
      },
      "execution_count": null,
      "outputs": []
    },
    {
      "cell_type": "code",
      "source": [
        "from pymongo.mongo_client import MongoClient\n",
        "#uri = \"mongodb+srv://pakin-pan:<password>@cluster0.ac197n1.mongodb.net/?retryWrites=true&w=majority&appName=Cluster0\"\n",
        "uri= \"mongodb+srv://pakin-pan:<password>@workshop-bakery.mxeepyw.mongodb.net/\"\n",
        "# Create a new client and connect to the server\n",
        "client = MongoClient(uri)\n",
        "# Send a ping to confirm a successful connection\n",
        "try:\n",
        "    client.admin.command('ping')\n",
        "    print(\"Pinged your deployment. You successfully connected to MongoDB!\")\n",
        "except Exception as e:\n",
        "    print(e)\n"
      ],
      "metadata": {
        "id": "5e2MiGp8CFa5"
      },
      "execution_count": null,
      "outputs": []
    },
    {
      "cell_type": "code",
      "source": [
        "client.drop_database(\"Bakery\")"
      ],
      "metadata": {
        "id": "BK5Z9LW9rSLO"
      },
      "execution_count": null,
      "outputs": []
    },
    {
      "cell_type": "code",
      "source": [
        "#createDatabase && collections\n",
        "BakeryDB = client.Bakery\n",
        "BakeryDB.create_collection(\"cakes\")"
      ],
      "metadata": {
        "id": "4qJLfWFlCHAO"
      },
      "execution_count": null,
      "outputs": []
    },
    {
      "cell_type": "code",
      "source": [
        "from bson import ObjectId #need to import this to set objectId in pymongo"
      ],
      "metadata": {
        "id": "ueUjGf1ZKvtr"
      },
      "execution_count": null,
      "outputs": []
    },
    {
      "cell_type": "code",
      "source": [
        "#insert cake collections\n",
        "cakes = BakeryDB.cakes\n",
        "cakes.insert_one({\n",
        "  \"_id\" : ObjectId(\"64759d513beb40594cb859e9\"),\n",
        "  \"name\": \"Chocolate Cake\",\n",
        "  \"shortDescription\": \"Chocolate cake is a cake flavored with melted chocolate, cocoa powder, or sometimes both.\",\n",
        "  \"description\": \"Chocolate cake is made with chocolate; it can be made with other ingredients, as well. These ingredients include fudge, vanilla creme, and other sweeteners. The history of chocolate cake goes back to 1764, when Dr. James Baker discovered how to make chocolate by grinding cocoa beans between two massive circular millstones.\",\n",
        "  \"image\": \"https://addapinch.com/wp-content/uploads/2020/04/chocolate-cake-DSC_1768.jpg\",\n",
        "  \"ingredients\": [\n",
        "    \"flour\",\n",
        "    \"sugar\",\n",
        "    \"cocoa powder\"\n",
        "  ],\n",
        "  \"recipe\": \"Preheat your oven to the specified temperature and prepare a greased cake pan. Mix the dry and wet ingredients separately, then combine and pour the batter into the pan. Bake for the recommended time, let it cool, and optionally frost or decorate as desired.\",\n",
        "  \"stock\": 25\n",
        "})"
      ],
      "metadata": {
        "id": "_iRz9q-oEO25"
      },
      "execution_count": null,
      "outputs": []
    },
    {
      "cell_type": "code",
      "source": [
        "cakes.insert_one({\n",
        "  \"_id\": ObjectId(\"64759e4c3beb40594cb859ed\"),\n",
        "  \"name\": \"Cheese Cake\",\n",
        "  \"shortDescription\": \"Cheesecake is a sweet dessert consisting of one or more layers. The main, and thickest, layer consists of a mixture of a soft, fresh cheese (typically cottage cheese, cream cheese or ricotta), eggs, and sugar. \",\n",
        "  \"description\": \"Cheesecake is a sweet dessert consisting of one or more layers. The main, and thickest, layer consists of a mixture of a soft, fresh cheese (typically cottage cheese, cream cheese or ricotta), eggs, and sugar. If there is a bottom layer, it most often consists of a crust or base made from crushed cookies (or digestive biscuits), graham crackers, pastry, or sometimes sponge cake.[1] Cheesecake may be baked or unbaked (and is usually refrigerated).\",\n",
        "  \"image\":\"https://sallysbakingaddiction.com/wp-content/uploads/2018/05/perfect-cheesecake-recipe.jpg\",\n",
        "  \"ingredients\": [ \"graham cracker crumbs\", \"sugar\", \"eggs\", \"butter\", \"sour cream\", \"cream cheese\", \"vanilla extract\" ],\n",
        "  \"recipe\": \"Mix graham cracker crumbs and melted butter for the crust. Press into a pan. Beat cream cheese, sugar, and vanilla. Fold in whipped cream. Pour over the crust. Refrigerate until set, remove from pan, and serve chilled with desired toppings.\",\n",
        "  \"stock\": 40\n",
        "})"
      ],
      "metadata": {
        "id": "q6A8A2TyLXG_"
      },
      "execution_count": null,
      "outputs": []
    },
    {
      "cell_type": "code",
      "source": [
        "cakes.insert_one({\n",
        "  \"name\": \"Cupcake\",\n",
        "  \"shortDescription\":\"Cupcakes are small, tasty snack cakes that are favored for their portability and portion-control. They are batter cakes baked in a cup-shaped foil or temperature resistant paper.1\",\n",
        "  \"description\":\"Cupcake is a small cake designed to serve one person, which may be baked in a small thin paper or aluminum cup. As with larger cakes, frosting, icing and various other cake decorations such as fruit and candy may be applied. \",\n",
        "  \"image\": \"https://ichef.bbci.co.uk/food/ic/food_16x9_1600/recipes/cupcakes_93722_16x9.jpg\",\n",
        "  \"ingredient\":[\"butter\",\"sugar\",\"eggs\",\"vanila extract\",\"flour\",\"milk\",\"icing sugar\",\"food colouring\"],\n",
        "  \"recipe\": \"    Preheat the oven to 180C/350F/Gas 4 and line a 12-hole muffin tin with paper cupcake cases.Cream the butter and sugar together in a bowl until pale. Beat in the eggs a little at a time and stir in the vanilla extract.Fold in the flour using a large metal spoon, adding a little milk until the mixture is of a dropping consistency. Spoon the mixture into the cupcake cases until they are half full. Bake the cupcakes in the oven for 10-15 minutes, or until golden-brown on top and a skewer inserted into one of the cakes comes out clean. Set aside to cool for 5 minutes, then remove from the tin and cool on a wire rack. For the buttercream icing, beat the butter in a large bowl until soft. Add half the icing sugar and beat until smooth. Then add the remaining icing sugar with one tablespoon of the milk, adding more milk if necessary, until the mixture is smooth and creamy. Add the food colouring and mix until well combined. Spoon the icing into a piping bag with a star nozzle and pipe the icing using a spiralling motion onto the cupcakes in a large swirl.\",\n",
        "  \"stock\": 50\n",
        "})"
      ],
      "metadata": {
        "id": "lDdmQgyVgvgS"
      },
      "execution_count": null,
      "outputs": []
    },
    {
      "cell_type": "code",
      "source": [
        "#create collection comments\n",
        "comments = BakeryDB.create_collection(\"comments\")"
      ],
      "metadata": {
        "id": "oC_jFzc6Lxgl"
      },
      "execution_count": null,
      "outputs": []
    },
    {
      "cell_type": "code",
      "source": [
        "from datetime import datetime #for $date format"
      ],
      "metadata": {
        "id": "FVsQ4g7SNL8-"
      },
      "execution_count": null,
      "outputs": []
    },
    {
      "cell_type": "code",
      "source": [
        "# add new comments\n",
        "comments.insert_one({\n",
        "\"_id\": ObjectId(\"6475be48a10dcef00d5c7d9c\"),\n",
        "\"cakeId\": ObjectId(\"64759d513beb40594cb859e9\"),\n",
        "\"name\": \"Peter Quill\",\n",
        "\"text\": \"This recipe was super easy to follow and the result was delicious!\",\n",
        "\"date\": datetime.fromtimestamp(1685750400000/1000)\n",
        "})"
      ],
      "metadata": {
        "id": "Ple-KWCkMRCm"
      },
      "execution_count": null,
      "outputs": []
    },
    {
      "cell_type": "code",
      "source": [
        "  #create index for comment collections\n",
        "comments.create_index([(\"cakeId\", 1)])"
      ],
      "metadata": {
        "id": "Q8TxV0F9P3Hn",
        "collapsed": true
      },
      "execution_count": null,
      "outputs": []
    }
  ]
}
