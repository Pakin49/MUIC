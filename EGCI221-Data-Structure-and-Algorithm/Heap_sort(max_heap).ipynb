{
  "nbformat": 4,
  "nbformat_minor": 0,
  "metadata": {
    "colab": {
      "provenance": []
    },
    "kernelspec": {
      "name": "python3",
      "display_name": "Python 3"
    },
    "language_info": {
      "name": "python"
    }
  },
  "cells": [
    {
      "cell_type": "code",
      "execution_count": null,
      "metadata": {
        "id": "5J_AH36ZwYSV"
      },
      "outputs": [],
      "source": [
        "from numpy import random\n",
        "import numpy as np"
      ]
    },
    {
      "cell_type": "code",
      "source": [
        "size = 100\n",
        "a = random.randint(100, size=size)\n",
        "for i in range(size):\n",
        "  a[i] = a[i]*(-1)\n",
        "a=np.insert(a,0,0)"
      ],
      "metadata": {
        "id": "jTXDIoMx57Ur"
      },
      "execution_count": null,
      "outputs": []
    },
    {
      "cell_type": "code",
      "source": [
        "def percolatedown(a,hole):\n",
        "  while (hole*2)<=size:\n",
        "    child = hole*2\n",
        "    if child != size and a[child+1] < a[child]:\n",
        "      child = child+1\n",
        "    if a[child]<a[hole]:\n",
        "      a[child],a[hole] = a[hole],a[child]\n",
        "    else:\n",
        "      break\n",
        "    hole = child"
      ],
      "metadata": {
        "id": "JL9WW-Jj6laD"
      },
      "execution_count": null,
      "outputs": []
    },
    {
      "cell_type": "code",
      "source": [
        "def build_heap(a):\n",
        "  for i in range(int(size/2),0,-1):\n",
        "    percolatedown(a,i)"
      ],
      "metadata": {
        "id": "16vsbfFT5u0D"
      },
      "execution_count": null,
      "outputs": []
    },
    {
      "cell_type": "code",
      "source": [
        "def findmin():\n",
        "  if size == 0:\n",
        "    return None\n",
        "  return a[1]"
      ],
      "metadata": {
        "id": "hGTRCgqf6EUb"
      },
      "execution_count": null,
      "outputs": []
    },
    {
      "cell_type": "code",
      "source": [
        "def extractmin():\n",
        "  global size\n",
        "  if size == 0:\n",
        "    return None\n",
        "  minItem = findmin()\n",
        "  a[1] = a[size]\n",
        "  size = size-1\n",
        "  percolatedown(a,1)\n",
        "  return minItem"
      ],
      "metadata": {
        "id": "FFOD_b_f5u2z"
      },
      "execution_count": null,
      "outputs": []
    },
    {
      "cell_type": "code",
      "source": [
        "def heap_sort(a):\n",
        "  build_heap(a)\n",
        "  for i in range(size,0,-1):\n",
        "    a[i] = extractmin()\n",
        "  for i in range(1,len(a)):\n",
        "    a[i] = a[i]*(-1)\n",
        "    print(a[i],end=\" \")"
      ],
      "metadata": {
        "id": "3lAYiW1p5u--"
      },
      "execution_count": null,
      "outputs": []
    },
    {
      "cell_type": "code",
      "source": [
        "heap_sort(a)"
      ],
      "metadata": {
        "id": "x7TDEBoi5vCL",
        "colab": {
          "base_uri": "https://localhost:8080/"
        },
        "outputId": "fd972e94-0715-4c77-86cc-8b60a9987dba"
      },
      "execution_count": null,
      "outputs": [
        {
          "output_type": "stream",
          "name": "stdout",
          "text": [
            "0 4 5 7 7 8 8 9 13 14 14 14 15 15 19 19 20 20 20 22 23 24 24 24 24 25 26 26 27 28 29 31 31 34 35 36 36 39 39 40 41 44 44 45 45 45 45 46 46 48 49 49 51 52 53 53 54 55 55 56 56 57 60 61 65 65 66 67 67 69 70 70 73 74 75 75 77 79 83 83 85 85 85 88 88 89 90 91 91 91 93 94 94 95 96 96 97 97 99 99 "
          ]
        }
      ]
    }
  ]
}