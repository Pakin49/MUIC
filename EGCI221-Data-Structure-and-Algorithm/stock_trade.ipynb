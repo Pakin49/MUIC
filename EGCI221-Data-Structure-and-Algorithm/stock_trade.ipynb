{
  "nbformat": 4,
  "nbformat_minor": 0,
  "metadata": {
    "colab": {
      "provenance": []
    },
    "kernelspec": {
      "name": "python3",
      "display_name": "Python 3"
    },
    "language_info": {
      "name": "python"
    }
  },
  "cells": [
    {
      "cell_type": "markdown",
      "source": [
        "Given an array prices, where prices[i] is the price of a stock on the ith day.\n",
        "\n",
        "Given an ingteger fee, representing a transaction fee.\n",
        "\n",
        "Determine the maximum profit you can chieve Constraint:\n",
        "1. You cannot engage in multiple transactions simutaneously.\n",
        "2. Transaction fee is charged once for each purchase and sale\n",
        "\n",
        "Size of problem = size of array price and number of stock you can hold at a time\n",
        "\n",
        "How to reduce = buy and sale"
      ],
      "metadata": {
        "id": "VchgUenUs9dh"
      }
    },
    {
      "cell_type": "code",
      "execution_count": null,
      "metadata": {
        "id": "PiAnraY4s5t3"
      },
      "outputs": [],
      "source": [
        "price = [1,3,2,8,4,9]\n",
        "fee = 2"
      ]
    },
    {
      "cell_type": "markdown",
      "source": [
        "f(n)\n",
        "if port is not empty:\n",
        "  max{do nothing,sell}\n",
        "  do notthing : f(n+1)\n",
        "  sell: f(n+1)+ price[n]- fee mark port empty\n",
        "\n",
        "else:\n",
        "max{buy,do nothing}\n",
        "  buy: f(n+1)\n",
        "  do notthing : f(n+1) - price[n]- fee mark port not empty\n",
        "\n"
      ],
      "metadata": {
        "id": "C42IUoDpvEJo"
      }
    },
    {
      "cell_type": "code",
      "source": [
        "port_empty = True\n",
        "N = len(price)\n",
        "\n",
        "def stock(n,port_empty):\n",
        "  if n >= N:\n",
        "    return 0\n",
        "  elif port_empty == False:\n",
        "    return max(stock(n+1,port_empty),stock(n+1,True)+price[n]-fee)\n",
        "  else:\n",
        "    return max(stock(n+1,port_empty),stock(n+1,False)-price[n])\n"
      ],
      "metadata": {
        "id": "pvKmvF6-xkTK"
      },
      "execution_count": null,
      "outputs": []
    },
    {
      "cell_type": "code",
      "source": [
        "stock(0,True)"
      ],
      "metadata": {
        "colab": {
          "base_uri": "https://localhost:8080/"
        },
        "id": "ltpYXYmv0JKi",
        "outputId": "b660cd42-52ba-40bf-e7cc-40899557d4d3"
      },
      "execution_count": null,
      "outputs": [
        {
          "output_type": "execute_result",
          "data": {
            "text/plain": [
              "8"
            ]
          },
          "metadata": {},
          "execution_count": 20
        }
      ]
    }
  ]
}