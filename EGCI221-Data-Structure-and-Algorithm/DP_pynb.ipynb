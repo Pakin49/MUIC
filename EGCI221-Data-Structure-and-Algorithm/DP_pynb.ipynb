{
  "nbformat": 4,
  "nbformat_minor": 0,
  "metadata": {
    "colab": {
      "provenance": []
    },
    "kernelspec": {
      "name": "python3",
      "display_name": "Python 3"
    },
    "language_info": {
      "name": "python"
    }
  },
  "cells": [
    {
      "cell_type": "markdown",
      "source": [
        "# Binary Knapsack problem\n",
        "1. Top-Down approach"
      ],
      "metadata": {
        "id": "i404v6YTH-QA"
      }
    },
    {
      "cell_type": "code",
      "execution_count": null,
      "metadata": {
        "id": "gfs9L2hUeOeQ"
      },
      "outputs": [],
      "source": [
        "value = [0,1,2,3,3,2]\n",
        "weight = [0,4,5,1,2,5]\n",
        "capacity = 7\n",
        "items = len(value)-1\n",
        "m = [[None for colum in range(capacity+1)]for row in range(items+1)]"
      ]
    },
    {
      "cell_type": "code",
      "source": [
        "def TD_sack(i, j):\n",
        "  if i == 0 or j == 0:\n",
        "      return 0\n",
        "  if m[i][j] is None:\n",
        "    if j >= weight[i]:\n",
        "      temp = max(TD_sack(i-1, j), TD_sack(i-1, j-weight[i]) + value[i])\n",
        "      m[i][j] = temp\n",
        "    else:\n",
        "      m[i][j] = TD_sack(i-1, j)\n",
        "  return m[i][j]"
      ],
      "metadata": {
        "id": "vI8qJnQGeh4w"
      },
      "execution_count": null,
      "outputs": []
    },
    {
      "cell_type": "code",
      "source": [
        "TD_sack(5,capacity)"
      ],
      "metadata": {
        "colab": {
          "base_uri": "https://localhost:8080/"
        },
        "id": "iNGFzBTIG_yj",
        "outputId": "8e9d03fd-bb0b-48b6-d852-a7f45179fef0"
      },
      "execution_count": null,
      "outputs": [
        {
          "output_type": "execute_result",
          "data": {
            "text/plain": [
              "7"
            ]
          },
          "metadata": {},
          "execution_count": 4
        }
      ]
    },
    {
      "cell_type": "markdown",
      "source": [
        "# Climbing stair (Easy)\n",
        "\n",
        "You are climbing a staircase. It takes n steps to reach the top.\n",
        "\n",
        "Each time you can either climb 1 or 2 steps. In how many distinct ways can you climb to the top?\n",
        "\n",
        "Constraints:\n",
        "\n",
        "1 <= n <= 45\n",
        "\n",
        "size of problm = stair\n",
        "reduce size = step\n",
        "assume you know the answer to subproblem when you choose one or two +1 distinct way"
      ],
      "metadata": {
        "id": "4brLXRz6hdxP"
      }
    },
    {
      "cell_type": "code",
      "source": [
        "def step(n):\n",
        "  memoization = [0,1,2]+[None]*n # store how many distinct ways for that n steps\n",
        "  if memoization[n] is not None:\n",
        "    return memoization[n]\n",
        "  else:\n",
        "    memoization[n]= step(n-1)+step(n-2)\n",
        "  return memoization[n]\n"
      ],
      "metadata": {
        "id": "r6muuVHmhnE1"
      },
      "execution_count": null,
      "outputs": []
    },
    {
      "cell_type": "code",
      "source": [
        "def step(n):\n",
        "  memoization=[0,1,2]+[None]*(n-2)\n",
        "  if n <=2:\n",
        "    return memoization[n]\n",
        "  for i in range(3,n+1):\n",
        "    memoization[i] = memoization[i-2]+memoization[i-1]\n",
        "  return memoization[n]"
      ],
      "metadata": {
        "id": "A5E2zfU7jIpl"
      },
      "execution_count": null,
      "outputs": []
    },
    {
      "cell_type": "code",
      "source": [
        "step(8)"
      ],
      "metadata": {
        "colab": {
          "base_uri": "https://localhost:8080/"
        },
        "id": "0Z1BuMxoFOIM",
        "outputId": "4eae3710-c6cf-4b2d-b30f-78c627301ad0"
      },
      "execution_count": null,
      "outputs": [
        {
          "output_type": "execute_result",
          "data": {
            "text/plain": [
              "34"
            ]
          },
          "metadata": {},
          "execution_count": 18
        }
      ]
    },
    {
      "cell_type": "markdown",
      "source": [
        "# Fibonacci numbers\n",
        "The Fibonacci numbers, commonly denoted F(n) form a sequence, called the Fibonacci sequence, such that each number is the sum of the two preceding ones, starting from 0 and 1. That is,"
      ],
      "metadata": {
        "id": "rJUNBByykuAb"
      }
    },
    {
      "cell_type": "code",
      "source": [
        "def fibo(n):\n",
        "  memoization = [0,1]+[None]*n\n",
        "  if memoization[n] is not None:\n",
        "    return memoization[n]\n",
        "  else:\n",
        "    memoization[n] = fibo(n-1)+fibo(n-2)\n",
        "    return memoization[n]"
      ],
      "metadata": {
        "id": "fweonzlRks24"
      },
      "execution_count": null,
      "outputs": []
    },
    {
      "cell_type": "code",
      "source": [
        "def fibo(n):\n",
        "  memoization = [0,1]+[None]*(n-1)\n",
        "  if n<=1:\n",
        "    return memoization[n]\n",
        "  for i in range(2,n+1):\n",
        "    memoization[i] = memoization[i-1]+memoization[i-2]\n",
        "  return memoization[n]"
      ],
      "metadata": {
        "id": "MskYudWYGxnK"
      },
      "execution_count": null,
      "outputs": []
    },
    {
      "cell_type": "code",
      "source": [
        "fibo(4)"
      ],
      "metadata": {
        "colab": {
          "base_uri": "https://localhost:8080/"
        },
        "id": "1-_cPuXVF---",
        "outputId": "2a659416-edd9-4d4d-c9ad-842f05a9cce9"
      },
      "execution_count": null,
      "outputs": [
        {
          "output_type": "execute_result",
          "data": {
            "text/plain": [
              "3"
            ]
          },
          "metadata": {},
          "execution_count": 34
        }
      ]
    },
    {
      "cell_type": "markdown",
      "source": [
        "#Tribonacci\n",
        "\n",
        "The Tribonacci sequence Tn is defined as follows:\n",
        "\n",
        "T0 = 0, T1 = 1, T2 = 1, and Tn+3 = Tn + Tn+1 + Tn+2 for n >= 0"
      ],
      "metadata": {
        "id": "XD3sBKLuxgea"
      }
    },
    {
      "cell_type": "code",
      "source": [
        "def tribo(n):\n",
        "  if memoization[n] is not None:\n",
        "    return memoization[n]\n",
        "  else:\n",
        "    memoization[n] = tribo(n-3)+tribo(n-2)+tribo(n-1)\n",
        "    return memoization[n]"
      ],
      "metadata": {
        "id": "fAs9D8xuyipp"
      },
      "execution_count": null,
      "outputs": []
    },
    {
      "cell_type": "code",
      "source": [
        "#bottom-up\n",
        "def tribonacci(self, n: int) -> int:\n",
        "    memoization = [0,1,1]+[None]*(n-2)\n",
        "    if n == 0:\n",
        "        return 0\n",
        "    elif n==1 or n==2:\n",
        "        return 1\n",
        "    for i in range(3,n+1):\n",
        "        memoization[i] = memoization[i-3]+memoization[i-2]+memoization[i-1]\n",
        "    return memoization[n]"
      ],
      "metadata": {
        "id": "x2objMa8Drx1"
      },
      "execution_count": null,
      "outputs": []
    },
    {
      "cell_type": "markdown",
      "source": [
        "\n",
        "#Min cost climbing stairs\n",
        "You are given an integer array cost where cost[i] is the cost of ith step on a staircase. Once you pay the cost, you can either climb one or two steps.\n",
        "\n",
        "You can either start from the step with index 0, or the step with index 1.\n",
        "\n",
        "Return the minimum cost to reach the top of the floor."
      ],
      "metadata": {
        "id": "r0Ce4Y7RP1WB"
      }
    },
    {
      "cell_type": "markdown",
      "source": [
        "1. size of the problem : number of stair n\n",
        "2. reduce by step\n",
        "3. assume you know answer to the sub problem you choose between 2 steps or 1 step to the step n\n",
        "\n",
        "\n"
      ],
      "metadata": {
        "id": "gYjN2yWvH-az"
      }
    },
    {
      "cell_type": "code",
      "source": [
        "cost = [10,15,20]\n",
        "def min_cost_stair(cost):\n",
        "  def min_step(n):\n",
        "\n"
      ],
      "metadata": {
        "colab": {
          "base_uri": "https://localhost:8080/"
        },
        "id": "7bYQ3OR9HvGG",
        "outputId": "76f9f37a-4718-4104-f138-3cd96d736f2f"
      },
      "execution_count": null,
      "outputs": [
        {
          "output_type": "execute_result",
          "data": {
            "text/plain": [
              "10"
            ]
          },
          "metadata": {},
          "execution_count": 43
        }
      ]
    }
  ]
}